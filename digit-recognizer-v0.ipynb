{
 "cells": [
  {
   "cell_type": "markdown",
   "id": "64c8142d-1736-49c5-add3-e91697e3d135",
   "metadata": {},
   "source": [
    "## Setup and get data"
   ]
  },
  {
   "cell_type": "code",
   "execution_count": 1,
   "id": "a52edd2f-e7e3-4774-83a5-e2a82ca0ce11",
   "metadata": {
    "tags": []
   },
   "outputs": [
    {
     "name": "stdout",
     "output_type": "stream",
     "text": [
      "Downloading digit-recognizer.zip to downloads\n"
     ]
    },
    {
     "name": "stderr",
     "output_type": "stream",
     "text": [
      "100%|██████████| 15.3M/15.3M [00:00<00:00, 26.6MB/s]"
     ]
    },
    {
     "name": "stdout",
     "output_type": "stream",
     "text": [
      "\n"
     ]
    },
    {
     "name": "stderr",
     "output_type": "stream",
     "text": [
      "\n"
     ]
    },
    {
     "name": "stdout",
     "output_type": "stream",
     "text": [
      "done\n"
     ]
    }
   ],
   "source": [
    "COMPETITION_NAME = 'digit-recognizer' # replace me\n",
    "\n",
    "# Kaggle competition bootstrapping\n",
    "!pip install -qq fastai\n",
    "!pip install -qq kaggle\n",
    "\n",
    "from fastai.imports import *\n",
    "np.set_printoptions(linewidth=130)\n",
    "\n",
    "# get competition data\n",
    "iskaggle = os.environ.get('KAGGLE_KERNEL_RUN_TYPE', '')\n",
    "\n",
    "if iskaggle:\n",
    "    path = Path('../input/'+COMPETITION_NAME)\n",
    "else:\n",
    "    DOWNLOADS = Path('downloads')\n",
    "    import zipfile,kaggle\n",
    "    path = DOWNLOADS / COMPETITION_NAME\n",
    "    if not path.is_dir():\n",
    "        kaggle.api.competition_download_cli(COMPETITION_NAME, path=DOWNLOADS)\n",
    "        zipfile.ZipFile(f'{path}.zip').extractall(path)\n",
    "print('done')"
   ]
  },
  {
   "cell_type": "code",
   "execution_count": 2,
   "id": "0ff8eab0-38e5-4135-9b0d-d6a8ee10eab2",
   "metadata": {},
   "outputs": [
    {
     "name": "stdout",
     "output_type": "stream",
     "text": [
      "sample_submission.csv  test.csv  train.csv\n"
     ]
    }
   ],
   "source": [
    "!ls {path}"
   ]
  },
  {
   "cell_type": "markdown",
   "id": "dda76e32-38f0-4fef-99f3-3f5962cb12c6",
   "metadata": {},
   "source": [
    "## Data preprocessing\n",
    "Moving csv format to images in folders"
   ]
  },
  {
   "cell_type": "code",
   "execution_count": 3,
   "id": "0e5cf32c-37c0-4f29-80e2-176ec2cd885c",
   "metadata": {},
   "outputs": [
    {
     "data": {
      "text/plain": [
       "1    4684\n",
       "7    4401\n",
       "3    4351\n",
       "9    4188\n",
       "2    4177\n",
       "6    4137\n",
       "0    4132\n",
       "4    4072\n",
       "8    4063\n",
       "5    3795\n",
       "Name: label, dtype: int64"
      ]
     },
     "execution_count": 3,
     "metadata": {},
     "output_type": "execute_result"
    }
   ],
   "source": [
    "df = pd.read_csv(path/'train.csv')\n",
    "df.label.value_counts()"
   ]
  },
  {
   "cell_type": "code",
   "execution_count": 4,
   "id": "933161db-6dd2-4f6e-b224-f6ce6b1f8772",
   "metadata": {},
   "outputs": [
    {
     "data": {
      "image/png": "[encoded data removed]",
      "text/plain": [
       "<Figure size 432x288 with 1 Axes>"
      ]
     },
     "metadata": {
      "needs_background": "light"
     },
     "output_type": "display_data"
    }
   ],
   "source": [
    "import matplotlib.pyplot as plt\n",
    "import numpy as np\n",
    "plt.hist(df.label)\n",
    "plt.show()"
   ]
  },
  {
   "cell_type": "code",
   "execution_count": 5,
   "id": "ae5bc436-b934-491f-a008-ea8862301a6d",
   "metadata": {},
   "outputs": [
    {
     "data": {
      "text/plain": [
       "28000"
      ]
     },
     "execution_count": 5,
     "metadata": {},
     "output_type": "execute_result"
    }
   ],
   "source": [
    "test_df = pd.read_csv(path/\"test.csv\")\n",
    "len(test_df)"
   ]
  },
  {
   "cell_type": "code",
   "execution_count": 7,
   "id": "0269d99f-6856-49c2-ae19-a8ca34b8f6e1",
   "metadata": {},
   "outputs": [
    {
     "name": "stdout",
     "output_type": "stream",
     "text": [
      "creating downloads/digit-recognizer/train\n",
      "creating downloads/digit-recognizer/test\n",
      "creating downloads/digit-recognizer/train/0\n",
      "creating downloads/digit-recognizer/train/1\n",
      "creating downloads/digit-recognizer/train/2\n",
      "creating downloads/digit-recognizer/train/3\n",
      "creating downloads/digit-recognizer/train/4\n",
      "creating downloads/digit-recognizer/train/5\n",
      "creating downloads/digit-recognizer/train/6\n",
      "creating downloads/digit-recognizer/train/7\n",
      "creating downloads/digit-recognizer/train/8\n",
      "creating downloads/digit-recognizer/train/9\n"
     ]
    }
   ],
   "source": [
    "#create folders \n",
    "TRAIN_IMGS = path / 'train'\n",
    "TEST_IMGS = path / 'test'\n",
    "if not TRAIN_IMGS.exists():\n",
    "    print('creating', TRAIN_IMGS)\n",
    "    TRAIN_IMGS.mkdir()\n",
    "if not TEST_IMGS.exists():\n",
    "    print('creating', TEST_IMGS)\n",
    "    TEST_IMGS.mkdir()\n",
    "for i in range(10):\n",
    "    pi = TRAIN_IMGS/(str(i))\n",
    "    if not pi.exists():\n",
    "        print('creating', pi)\n",
    "        pi.mkdir()"
   ]
  },
  {
   "cell_type": "code",
   "execution_count": 10,
   "id": "b6e0e94b-2096-4db3-a8c4-320bdc02bb14",
   "metadata": {},
   "outputs": [],
   "source": [
    "from PIL import Image\n",
    "images = []\n",
    "def saveMNIST(digit, filepath):\n",
    "    digit = digit.reshape(28,28)\n",
    "    digit = digit.astype(np.uint8)\n",
    "\n",
    "    img = Image.fromarray(digit)\n",
    "    images.append(img)\n",
    "\n",
    "# training set\n",
    "for index, row in df.iterrows():\n",
    "    label,digit = row[0], row[1:]\n",
    "    folder = TRAIN_IMGS/str(label)\n",
    "    filename = f\"{index}.jpg\"\n",
    "    filepath = folder/filename\n",
    "    if filepath.exists(): continue\n",
    "    \n",
    "    digit = digit.values\n",
    "    \n",
    "    saveMNIST(digit, filepath)"
   ]
  },
  {
   "cell_type": "code",
   "execution_count": 11,
   "id": "aca8adbb-6893-4d77-b892-652563bf4c1c",
   "metadata": {},
   "outputs": [
    {
     "data": {
      "text/plain": [
       "42000"
      ]
     },
     "execution_count": 11,
     "metadata": {},
     "output_type": "execute_result"
    }
   ],
   "source": [
    "len(images)"
   ]
  },
  {
   "cell_type": "markdown",
   "id": "6510bb0a-a8f3-4f34-8f2d-cd9de76cef3b",
   "metadata": {},
   "source": [
    "## Let's create a friggin videooo"
   ]
  },
  {
   "cell_type": "code",
   "execution_count": 15,
   "id": "5cdc7e47-edc1-43e7-ab6c-1c4ca4bd962c",
   "metadata": {},
   "outputs": [],
   "source": [
    "from IPython.display import Video\n",
    "import matplotlib.pyplot as plt\n",
    "import matplotlib.cm as cm\n",
    "import matplotlib.animation as animation\n",
    "from tqdm.auto import tqdm\n",
    "\n",
    "def create_movie(images, fname=\"movie.mp4\"):\n",
    "    frames = [] # for storing the generated images\n",
    "    fig = plt.figure()\n",
    "    for i in tqdm(range(len(images))):\n",
    "        frames.append([plt.imshow(images[i], cmap=cm.Greys_r, animated=True)])\n",
    "\n",
    "    ani = animation.ArtistAnimation(fig, frames, interval=50, blit=True,\n",
    "                                    repeat_delay=1000)\n",
    "    ani.save(fname)\n",
    "    \n",
    "def play_movie(fname=\"movie.mp4\"):\n",
    "    return Video(\"movie.mp4\")\n",
    "\n",
    "def movie(images, fname=\"movie.mp4\"):\n",
    "    print('creating movie...')\n",
    "    create_movie(images, fname)\n",
    "    print('playing movie...')\n",
    "    return play_movie(fname)"
   ]
  },
  {
   "cell_type": "code",
   "execution_count": 19,
   "id": "95a1c97f-608e-477e-8ee2-05ad353e9c6d",
   "metadata": {},
   "outputs": [
    {
     "name": "stdout",
     "output_type": "stream",
     "text": [
      "creating movie...\n"
     ]
    },
    {
     "data": {
      "application/vnd.jupyter.widget-view+json": {
       "model_id": "b7dabc4226f04f3c9663d5d47027fcbf",
       "version_major": 2,
       "version_minor": 0
      },
      "text/plain": [
       "  0%|          | 0/100 [00:00<?, ?it/s]"
      ]
     },
     "metadata": {},
     "output_type": "display_data"
    },
    {
     "name": "stdout",
     "output_type": "stream",
     "text": [
      "playing movie...\n"
     ]
    },
    {
     "data": {
      "text/html": [
       "<video src=\"movie.mp4\" controls  >\n",
       "      Your browser does not support the <code>video</code> element.\n",
       "    </video>"
      ],
      "text/plain": [
       "<IPython.core.display.Video object>"
      ]
     },
     "execution_count": 19,
     "metadata": {},
     "output_type": "execute_result"
    },
    {
     "data": {
      "image/png": "[encoded data removed]",
      "text/plain": [
       "<Figure size 432x288 with 1 Axes>"
      ]
     },
     "metadata": {
      "needs_background": "light"
     },
     "output_type": "display_data"
    }
   ],
   "source": [
    "movie(images[:100])"
   ]
  },
  {
   "cell_type": "code",
   "execution_count": null,
   "id": "84c9afa9-1107-4d9c-b6df-b23c0939cabf",
   "metadata": {},
   "outputs": [],
   "source": []
  }
 ],
 "metadata": {
  "kernelspec": {
   "display_name": "Python 3 (ipykernel)",
   "language": "python",
   "name": "python3"
  },
  "language_info": {
   "codemirror_mode": {
    "name": "ipython",
    "version": 3
   },
   "file_extension": ".py",
   "mimetype": "text/x-python",
   "name": "python",
   "nbconvert_exporter": "python",
   "pygments_lexer": "ipython3",
   "version": "3.9.13"
  }
 },
 "nbformat": 4,
 "nbformat_minor": 5
}
