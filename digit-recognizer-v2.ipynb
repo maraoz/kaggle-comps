{
 "cells": [
  {
   "cell_type": "markdown",
   "id": "64c8142d-1736-49c5-add3-e91697e3d135",
   "metadata": {},
   "source": [
    "## Setup and get data"
   ]
  },
  {
   "cell_type": "code",
   "execution_count": 1,
   "id": "a52edd2f-e7e3-4774-83a5-e2a82ca0ce11",
   "metadata": {
    "tags": []
   },
   "outputs": [
    {
     "name": "stdout",
     "output_type": "stream",
     "text": [
      "done\n"
     ]
    }
   ],
   "source": [
    "COMPETITION_NAME = 'digit-recognizer' # replace me\n",
    "\n",
    "# Kaggle competition bootstrapping\n",
    "!pip install -qq fastai\n",
    "!pip install -qq kaggle\n",
    "\n",
    "from fastai.imports import *\n",
    "np.set_printoptions(linewidth=130)\n",
    "\n",
    "# get competition data\n",
    "iskaggle = os.environ.get('KAGGLE_KERNEL_RUN_TYPE', '')\n",
    "\n",
    "if iskaggle:\n",
    "    path = Path('../input/'+COMPETITION_NAME)\n",
    "else:\n",
    "    DOWNLOADS = Path('downloads')\n",
    "    import zipfile,kaggle\n",
    "    path = DOWNLOADS / COMPETITION_NAME\n",
    "    if not path.is_dir():\n",
    "        kaggle.api.competition_download_cli(COMPETITION_NAME, path=DOWNLOADS)\n",
    "        zipfile.ZipFile(f'{path}.zip').extractall(path)\n",
    "print('done')"
   ]
  },
  {
   "cell_type": "code",
   "execution_count": 2,
   "id": "0ff8eab0-38e5-4135-9b0d-d6a8ee10eab2",
   "metadata": {},
   "outputs": [
    {
     "name": "stdout",
     "output_type": "stream",
     "text": [
      "models\tsample_submission.csv  test  test.csv  train  train.csv\n"
     ]
    }
   ],
   "source": [
    "!ls {path}"
   ]
  },
  {
   "cell_type": "markdown",
   "id": "dda76e32-38f0-4fef-99f3-3f5962cb12c6",
   "metadata": {},
   "source": [
    "## Data preprocessing\n",
    "Moving csv format to images in folders"
   ]
  },
  {
   "cell_type": "code",
   "execution_count": 3,
   "id": "0e5cf32c-37c0-4f29-80e2-176ec2cd885c",
   "metadata": {},
   "outputs": [
    {
     "data": {
      "text/plain": [
       "1    4684\n",
       "7    4401\n",
       "3    4351\n",
       "9    4188\n",
       "2    4177\n",
       "6    4137\n",
       "0    4132\n",
       "4    4072\n",
       "8    4063\n",
       "5    3795\n",
       "Name: label, dtype: int64"
      ]
     },
     "execution_count": 3,
     "metadata": {},
     "output_type": "execute_result"
    }
   ],
   "source": [
    "df = pd.read_csv(path/'train.csv')\n",
    "df.label.value_counts()"
   ]
  },
  {
   "cell_type": "code",
   "execution_count": 4,
   "id": "933161db-6dd2-4f6e-b224-f6ce6b1f8772",
   "metadata": {},
   "outputs": [
    {
     "data": {
      "image/png": "[encoded data removed]",
      "text/plain": [
       "<Figure size 432x288 with 1 Axes>"
      ]
     },
     "metadata": {
      "needs_background": "light"
     },
     "output_type": "display_data"
    }
   ],
   "source": [
    "import matplotlib.pyplot as plt\n",
    "import numpy as np\n",
    "plt.hist(df.label)\n",
    "plt.show()"
   ]
  },
  {
   "cell_type": "code",
   "execution_count": 5,
   "id": "ae5bc436-b934-491f-a008-ea8862301a6d",
   "metadata": {},
   "outputs": [
    {
     "data": {
      "text/plain": [
       "28000"
      ]
     },
     "execution_count": 5,
     "metadata": {},
     "output_type": "execute_result"
    }
   ],
   "source": [
    "test_df = pd.read_csv(path/\"test.csv\")\n",
    "len(test_df)"
   ]
  },
  {
   "cell_type": "code",
   "execution_count": 7,
   "id": "0269d99f-6856-49c2-ae19-a8ca34b8f6e1",
   "metadata": {},
   "outputs": [
    {
     "name": "stdout",
     "output_type": "stream",
     "text": [
      "done\n"
     ]
    }
   ],
   "source": [
    "#create folders \n",
    "TRAIN_IMGS = path / 'train'\n",
    "TEST_IMGS = path / 'test'\n",
    "if not TRAIN_IMGS.exists():\n",
    "    print('creating', TRAIN_IMGS)\n",
    "    TRAIN_IMGS.mkdir()\n",
    "if not TEST_IMGS.exists():\n",
    "    print('creating', TEST_IMGS)\n",
    "    TEST_IMGS.mkdir()\n",
    "for i in range(10):\n",
    "    pi = TRAIN_IMGS/(str(i))\n",
    "    if not pi.exists():\n",
    "        print('creating', pi)\n",
    "        pi.mkdir()\n",
    "print('done')"
   ]
  },
  {
   "cell_type": "code",
   "execution_count": 8,
   "id": "b6e0e94b-2096-4db3-a8c4-320bdc02bb14",
   "metadata": {},
   "outputs": [],
   "source": [
    "from PIL import Image\n",
    "\n",
    "def saveMNIST(digit, filepath):\n",
    "    digit = digit.reshape(28,28)\n",
    "    digit = digit.astype(np.uint8)\n",
    "\n",
    "    img = Image.fromarray(digit)\n",
    "    img.save(filepath)\n",
    "\n",
    "# training set\n",
    "for index, row in df.iterrows():\n",
    "    label,digit = row[0], row[1:]\n",
    "    folder = TRAIN_IMGS/str(label)\n",
    "    filename = f\"{index}.jpg\"\n",
    "    filepath = folder/filename\n",
    "    if filepath.exists(): continue\n",
    "    \n",
    "    digit = digit.values\n",
    "    \n",
    "    saveMNIST(digit, filepath)\n",
    "\n",
    "# test set\n",
    "for index, digit in test_df.iterrows():\n",
    "    filename = f\"{index}.jpg\"\n",
    "    filepath = TEST_IMGS/filename\n",
    "    if filepath.exists(): continue\n",
    "    \n",
    "    digit = digit.values\n",
    "    \n",
    "    saveMNIST(digit, filepath)\n"
   ]
  },
  {
   "cell_type": "markdown",
   "id": "6510bb0a-a8f3-4f34-8f2d-cd9de76cef3b",
   "metadata": {},
   "source": [
    "## Let's create a friggin model"
   ]
  },
  {
   "cell_type": "code",
   "execution_count": 8,
   "id": "1fd6e0c8-5036-43ff-8dff-7b291c20158b",
   "metadata": {},
   "outputs": [
    {
     "name": "stdout",
     "output_type": "stream",
     "text": [
      "\u001b[33mWARNING: Running pip as the 'root' user can result in broken permissions and conflicting behaviour with the system package manager. It is recommended to use a virtual environment instead: https://pip.pypa.io/warnings/venv\u001b[0m\u001b[33m\n",
      "\u001b[0m"
     ]
    },
    {
     "data": {
      "text/plain": [
       "42000"
      ]
     },
     "execution_count": 8,
     "metadata": {},
     "output_type": "execute_result"
    }
   ],
   "source": [
    "!pip install -q timm\n",
    "\n",
    "import timm \n",
    "from fastai.vision.all import *\n",
    "\n",
    "files = get_image_files(TRAIN_IMGS)\n",
    "len(files)"
   ]
  },
  {
   "cell_type": "code",
   "execution_count": 67,
   "id": "3c42f51c-57c6-4931-8ee2-56abb07b2952",
   "metadata": {
    "tags": []
   },
   "outputs": [
    {
     "name": "stdout",
     "output_type": "stream",
     "text": [
      "525 132\n"
     ]
    }
   ],
   "source": [
    "dls = ImageDataLoaders.from_folder(TRAIN_IMGS, valid_pct=0.2,\n",
    "    item_tfms=None,\n",
    "    batch_tfms=aug_transforms(size=32, min_scale=0.75, do_flip=False)\n",
    "    )\n",
    "print(len(dls.train), len(dls.valid))"
   ]
  },
  {
   "cell_type": "code",
   "execution_count": 68,
   "id": "ee2c1f27-8df8-41e3-a903-9169982425a1",
   "metadata": {},
   "outputs": [
    {
     "data": {
      "image/png": "[encoded data removed]",
      "text/plain": [
       "<Figure size 648x648 with 9 Axes>"
      ]
     },
     "metadata": {
      "needs_background": "light"
     },
     "output_type": "display_data"
    }
   ],
   "source": [
    "dls.show_batch()"
   ]
  },
  {
   "cell_type": "code",
   "execution_count": 69,
   "id": "8910ad02-f64b-4c28-a914-fe1ac4e1a1b4",
   "metadata": {},
   "outputs": [],
   "source": [
    "learn = vision_learner(dls, 'convnext_large_in22k', metrics=error_rate)\n",
    "#learn = vision_learner(dls, 'convnext_base_in22ft1k', metrics=error_rate)"
   ]
  },
  {
   "cell_type": "code",
   "execution_count": 70,
   "id": "7e50e651-6c73-4a3d-9648-c311c10c8b00",
   "metadata": {},
   "outputs": [
    {
     "data": {
      "text/html": [
       "\n",
       "<style>\n",
       "    /* Turns off some styling */\n",
       "    progress {\n",
       "        /* gets rid of default border in Firefox and Opera. */\n",
       "        border: none;\n",
       "        /* Needs to be in here for Safari polyfill so background images work as expected. */\n",
       "        background-size: auto;\n",
       "    }\n",
       "    progress:not([value]), progress:not([value])::-webkit-progress-bar {\n",
       "        background: repeating-linear-gradient(45deg, #7e7e7e, #7e7e7e 10px, #5c5c5c 10px, #5c5c5c 20px);\n",
       "    }\n",
       "    .progress-bar-interrupted, .progress-bar-interrupted::-webkit-progress-bar {\n",
       "        background: #F44336;\n",
       "    }\n",
       "</style>\n"
      ],
      "text/plain": [
       "<IPython.core.display.HTML object>"
      ]
     },
     "metadata": {},
     "output_type": "display_data"
    },
    {
     "data": {
      "text/html": [
       "<table border=\"1\" class=\"dataframe\">\n",
       "  <thead>\n",
       "    <tr style=\"text-align: left;\">\n",
       "      <th>epoch</th>\n",
       "      <th>train_loss</th>\n",
       "      <th>valid_loss</th>\n",
       "      <th>error_rate</th>\n",
       "      <th>time</th>\n",
       "    </tr>\n",
       "  </thead>\n",
       "  <tbody>\n",
       "    <tr>\n",
       "      <td>0</td>\n",
       "      <td>0.227103</td>\n",
       "      <td>0.125920</td>\n",
       "      <td>0.040238</td>\n",
       "      <td>00:25</td>\n",
       "    </tr>\n",
       "  </tbody>\n",
       "</table>"
      ],
      "text/plain": [
       "<IPython.core.display.HTML object>"
      ]
     },
     "metadata": {},
     "output_type": "display_data"
    },
    {
     "data": {
      "text/html": [
       "\n",
       "<style>\n",
       "    /* Turns off some styling */\n",
       "    progress {\n",
       "        /* gets rid of default border in Firefox and Opera. */\n",
       "        border: none;\n",
       "        /* Needs to be in here for Safari polyfill so background images work as expected. */\n",
       "        background-size: auto;\n",
       "    }\n",
       "    progress:not([value]), progress:not([value])::-webkit-progress-bar {\n",
       "        background: repeating-linear-gradient(45deg, #7e7e7e, #7e7e7e 10px, #5c5c5c 10px, #5c5c5c 20px);\n",
       "    }\n",
       "    .progress-bar-interrupted, .progress-bar-interrupted::-webkit-progress-bar {\n",
       "        background: #F44336;\n",
       "    }\n",
       "</style>\n"
      ],
      "text/plain": [
       "<IPython.core.display.HTML object>"
      ]
     },
     "metadata": {},
     "output_type": "display_data"
    },
    {
     "data": {
      "text/html": [
       "<table border=\"1\" class=\"dataframe\">\n",
       "  <thead>\n",
       "    <tr style=\"text-align: left;\">\n",
       "      <th>epoch</th>\n",
       "      <th>train_loss</th>\n",
       "      <th>valid_loss</th>\n",
       "      <th>error_rate</th>\n",
       "      <th>time</th>\n",
       "    </tr>\n",
       "  </thead>\n",
       "  <tbody>\n",
       "    <tr>\n",
       "      <td>0</td>\n",
       "      <td>0.084873</td>\n",
       "      <td>0.040476</td>\n",
       "      <td>0.013095</td>\n",
       "      <td>01:05</td>\n",
       "    </tr>\n",
       "    <tr>\n",
       "      <td>1</td>\n",
       "      <td>0.056810</td>\n",
       "      <td>0.033933</td>\n",
       "      <td>0.010833</td>\n",
       "      <td>01:07</td>\n",
       "    </tr>\n",
       "    <tr>\n",
       "      <td>2</td>\n",
       "      <td>0.049913</td>\n",
       "      <td>0.031432</td>\n",
       "      <td>0.009762</td>\n",
       "      <td>01:07</td>\n",
       "    </tr>\n",
       "    <tr>\n",
       "      <td>3</td>\n",
       "      <td>0.043332</td>\n",
       "      <td>0.031596</td>\n",
       "      <td>0.009643</td>\n",
       "      <td>01:06</td>\n",
       "    </tr>\n",
       "    <tr>\n",
       "      <td>4</td>\n",
       "      <td>0.034089</td>\n",
       "      <td>0.029739</td>\n",
       "      <td>0.009048</td>\n",
       "      <td>01:06</td>\n",
       "    </tr>\n",
       "    <tr>\n",
       "      <td>5</td>\n",
       "      <td>0.027796</td>\n",
       "      <td>0.029305</td>\n",
       "      <td>0.008810</td>\n",
       "      <td>01:05</td>\n",
       "    </tr>\n",
       "    <tr>\n",
       "      <td>6</td>\n",
       "      <td>0.025160</td>\n",
       "      <td>0.024455</td>\n",
       "      <td>0.006548</td>\n",
       "      <td>01:06</td>\n",
       "    </tr>\n",
       "    <tr>\n",
       "      <td>7</td>\n",
       "      <td>0.028022</td>\n",
       "      <td>0.021862</td>\n",
       "      <td>0.006429</td>\n",
       "      <td>01:06</td>\n",
       "    </tr>\n",
       "    <tr>\n",
       "      <td>8</td>\n",
       "      <td>0.014742</td>\n",
       "      <td>0.019909</td>\n",
       "      <td>0.005238</td>\n",
       "      <td>01:06</td>\n",
       "    </tr>\n",
       "    <tr>\n",
       "      <td>9</td>\n",
       "      <td>0.015319</td>\n",
       "      <td>0.018115</td>\n",
       "      <td>0.005476</td>\n",
       "      <td>01:06</td>\n",
       "    </tr>\n",
       "    <tr>\n",
       "      <td>10</td>\n",
       "      <td>0.006827</td>\n",
       "      <td>0.020238</td>\n",
       "      <td>0.005476</td>\n",
       "      <td>01:06</td>\n",
       "    </tr>\n",
       "    <tr>\n",
       "      <td>11</td>\n",
       "      <td>0.006987</td>\n",
       "      <td>0.018936</td>\n",
       "      <td>0.005238</td>\n",
       "      <td>01:06</td>\n",
       "    </tr>\n",
       "    <tr>\n",
       "      <td>12</td>\n",
       "      <td>0.007314</td>\n",
       "      <td>0.017900</td>\n",
       "      <td>0.004643</td>\n",
       "      <td>01:06</td>\n",
       "    </tr>\n",
       "    <tr>\n",
       "      <td>13</td>\n",
       "      <td>0.008581</td>\n",
       "      <td>0.018798</td>\n",
       "      <td>0.004881</td>\n",
       "      <td>01:06</td>\n",
       "    </tr>\n",
       "    <tr>\n",
       "      <td>14</td>\n",
       "      <td>0.010186</td>\n",
       "      <td>0.018671</td>\n",
       "      <td>0.005000</td>\n",
       "      <td>01:06</td>\n",
       "    </tr>\n",
       "  </tbody>\n",
       "</table>"
      ],
      "text/plain": [
       "<IPython.core.display.HTML object>"
      ]
     },
     "metadata": {},
     "output_type": "display_data"
    }
   ],
   "source": [
    "learn.fine_tune(15)"
   ]
  },
  {
   "cell_type": "code",
   "execution_count": 71,
   "id": "8f5fb027-d0da-4c73-b9d4-4e6b52b7d72b",
   "metadata": {},
   "outputs": [
    {
     "data": {
      "text/html": [
       "\n",
       "<style>\n",
       "    /* Turns off some styling */\n",
       "    progress {\n",
       "        /* gets rid of default border in Firefox and Opera. */\n",
       "        border: none;\n",
       "        /* Needs to be in here for Safari polyfill so background images work as expected. */\n",
       "        background-size: auto;\n",
       "    }\n",
       "    progress:not([value]), progress:not([value])::-webkit-progress-bar {\n",
       "        background: repeating-linear-gradient(45deg, #7e7e7e, #7e7e7e 10px, #5c5c5c 10px, #5c5c5c 20px);\n",
       "    }\n",
       "    .progress-bar-interrupted, .progress-bar-interrupted::-webkit-progress-bar {\n",
       "        background: #F44336;\n",
       "    }\n",
       "</style>\n"
      ],
      "text/plain": [
       "<IPython.core.display.HTML object>"
      ]
     },
     "metadata": {},
     "output_type": "display_data"
    },
    {
     "data": {
      "text/html": [],
      "text/plain": [
       "<IPython.core.display.HTML object>"
      ]
     },
     "metadata": {},
     "output_type": "display_data"
    },
    {
     "data": {
      "text/html": [
       "\n",
       "<style>\n",
       "    /* Turns off some styling */\n",
       "    progress {\n",
       "        /* gets rid of default border in Firefox and Opera. */\n",
       "        border: none;\n",
       "        /* Needs to be in here for Safari polyfill so background images work as expected. */\n",
       "        background-size: auto;\n",
       "    }\n",
       "    progress:not([value]), progress:not([value])::-webkit-progress-bar {\n",
       "        background: repeating-linear-gradient(45deg, #7e7e7e, #7e7e7e 10px, #5c5c5c 10px, #5c5c5c 20px);\n",
       "    }\n",
       "    .progress-bar-interrupted, .progress-bar-interrupted::-webkit-progress-bar {\n",
       "        background: #F44336;\n",
       "    }\n",
       "</style>\n"
      ],
      "text/plain": [
       "<IPython.core.display.HTML object>"
      ]
     },
     "metadata": {},
     "output_type": "display_data"
    },
    {
     "data": {
      "text/html": [],
      "text/plain": [
       "<IPython.core.display.HTML object>"
      ]
     },
     "metadata": {},
     "output_type": "display_data"
    },
    {
     "data": {
      "image/png": "[encoded data removed]",
      "text/plain": [
       "<Figure size 432x288 with 1 Axes>"
      ]
     },
     "metadata": {
      "needs_background": "light"
     },
     "output_type": "display_data"
    }
   ],
   "source": [
    "interp = ClassificationInterpretation.from_learner(learn)\n",
    "interp.plot_confusion_matrix()"
   ]
  },
  {
   "cell_type": "code",
   "execution_count": 75,
   "id": "b5e0dca3-57ea-48e6-a4cc-7506dea5f65d",
   "metadata": {},
   "outputs": [
    {
     "data": {
      "text/html": [
       "\n",
       "<style>\n",
       "    /* Turns off some styling */\n",
       "    progress {\n",
       "        /* gets rid of default border in Firefox and Opera. */\n",
       "        border: none;\n",
       "        /* Needs to be in here for Safari polyfill so background images work as expected. */\n",
       "        background-size: auto;\n",
       "    }\n",
       "    progress:not([value]), progress:not([value])::-webkit-progress-bar {\n",
       "        background: repeating-linear-gradient(45deg, #7e7e7e, #7e7e7e 10px, #5c5c5c 10px, #5c5c5c 20px);\n",
       "    }\n",
       "    .progress-bar-interrupted, .progress-bar-interrupted::-webkit-progress-bar {\n",
       "        background: #F44336;\n",
       "    }\n",
       "</style>\n"
      ],
      "text/plain": [
       "<IPython.core.display.HTML object>"
      ]
     },
     "metadata": {},
     "output_type": "display_data"
    },
    {
     "data": {
      "text/html": [],
      "text/plain": [
       "<IPython.core.display.HTML object>"
      ]
     },
     "metadata": {},
     "output_type": "display_data"
    },
    {
     "data": {
      "image/png": "[encoded data removed]",
      "text/plain": [
       "<Figure size 864x864 with 16 Axes>"
      ]
     },
     "metadata": {
      "needs_background": "light"
     },
     "output_type": "display_data"
    }
   ],
   "source": [
    "interp.plot_top_losses(16, nrows=4)"
   ]
  },
  {
   "cell_type": "code",
   "execution_count": 76,
   "id": "ca064329-2971-4664-a538-67d558a78e86",
   "metadata": {},
   "outputs": [
    {
     "data": {
      "text/plain": [
       "28000"
      ]
     },
     "execution_count": 76,
     "metadata": {},
     "output_type": "execute_result"
    }
   ],
   "source": [
    "test_files = [TEST_IMGS/(str(i)+'.jpg') for i in range(len(test_df))]\n",
    "len(test_files)"
   ]
  },
  {
   "cell_type": "code",
   "execution_count": 77,
   "id": "81a0733f-1701-4ab6-9ccf-d6be218a6411",
   "metadata": {
    "tags": []
   },
   "outputs": [
    {
     "data": {
      "text/html": [
       "\n",
       "<style>\n",
       "    /* Turns off some styling */\n",
       "    progress {\n",
       "        /* gets rid of default border in Firefox and Opera. */\n",
       "        border: none;\n",
       "        /* Needs to be in here for Safari polyfill so background images work as expected. */\n",
       "        background-size: auto;\n",
       "    }\n",
       "    progress:not([value]), progress:not([value])::-webkit-progress-bar {\n",
       "        background: repeating-linear-gradient(45deg, #7e7e7e, #7e7e7e 10px, #5c5c5c 10px, #5c5c5c 20px);\n",
       "    }\n",
       "    .progress-bar-interrupted, .progress-bar-interrupted::-webkit-progress-bar {\n",
       "        background: #F44336;\n",
       "    }\n",
       "</style>\n"
      ],
      "text/plain": [
       "<IPython.core.display.HTML object>"
      ]
     },
     "metadata": {},
     "output_type": "display_data"
    },
    {
     "data": {
      "text/html": [],
      "text/plain": [
       "<IPython.core.display.HTML object>"
      ]
     },
     "metadata": {},
     "output_type": "display_data"
    }
   ],
   "source": [
    "test_dl = learn.dls.test_dl(test_files)\n",
    "preds, targets, decoded = learn.get_preds(dl=test_dl, with_decoded=True)"
   ]
  },
  {
   "cell_type": "code",
   "execution_count": 154,
   "id": "826b7864-2d0b-4c33-aa5f-18fee7583f5f",
   "metadata": {},
   "outputs": [
    {
     "name": "stdout",
     "output_type": "stream",
     "text": [
      "None\n"
     ]
    }
   ],
   "source": [
    "# targets is None because this is the test set (we don't know the labels)\n",
    "print(targets)"
   ]
  },
  {
   "cell_type": "code",
   "execution_count": 78,
   "id": "d14dea8c-ea10-4e48-8aa2-a5b3cfba8945",
   "metadata": {},
   "outputs": [
    {
     "data": {
      "text/plain": [
       "TensorBase([2, 0, 9, 0, 3, 7, 0, 3, 0])"
      ]
     },
     "execution_count": 78,
     "metadata": {},
     "output_type": "execute_result"
    }
   ],
   "source": [
    "decoded[:9]"
   ]
  },
  {
   "cell_type": "code",
   "execution_count": 79,
   "id": "e6b3f51e-1a7b-458a-9aef-36eee299ee8f",
   "metadata": {},
   "outputs": [
    {
     "data": {
      "image/png": "[encoded data removed]",
      "text/plain": [
       "<Figure size 648x648 with 9 Axes>"
      ]
     },
     "metadata": {
      "needs_background": "light"
     },
     "output_type": "display_data"
    }
   ],
   "source": [
    "test_dl.show_batch()"
   ]
  },
  {
   "cell_type": "markdown",
   "id": "a4c506c5-c6ba-4854-9882-631da2044943",
   "metadata": {
    "tags": []
   },
   "source": [
    "Looks good so far!"
   ]
  },
  {
   "cell_type": "code",
   "execution_count": 66,
   "id": "5404b3be-249c-4bd8-bb35-dbac9bd9889e",
   "metadata": {},
   "outputs": [
    {
     "data": {
      "text/plain": [
       "28000"
      ]
     },
     "execution_count": 66,
     "metadata": {},
     "output_type": "execute_result"
    }
   ],
   "source": [
    "len(decoded)"
   ]
  },
  {
   "cell_type": "code",
   "execution_count": 36,
   "id": "23391390-22f2-4ce3-9a44-fc29e4e0fdfd",
   "metadata": {},
   "outputs": [
    {
     "data": {
      "image/png": "[encoded data removed]",
      "text/plain": [
       "PILImage mode=RGB size=28x28"
      ]
     },
     "execution_count": 36,
     "metadata": {},
     "output_type": "execute_result"
    }
   ],
   "source": [
    "PILImage.create(TEST_IMGS/'1.jpg')"
   ]
  },
  {
   "cell_type": "code",
   "execution_count": 31,
   "id": "ec148e92-e8b5-4c44-a234-e7e527c713d3",
   "metadata": {},
   "outputs": [
    {
     "data": {
      "text/html": [
       "\n",
       "<style>\n",
       "    /* Turns off some styling */\n",
       "    progress {\n",
       "        /* gets rid of default border in Firefox and Opera. */\n",
       "        border: none;\n",
       "        /* Needs to be in here for Safari polyfill so background images work as expected. */\n",
       "        background-size: auto;\n",
       "    }\n",
       "    progress:not([value]), progress:not([value])::-webkit-progress-bar {\n",
       "        background: repeating-linear-gradient(45deg, #7e7e7e, #7e7e7e 10px, #5c5c5c 10px, #5c5c5c 20px);\n",
       "    }\n",
       "    .progress-bar-interrupted, .progress-bar-interrupted::-webkit-progress-bar {\n",
       "        background: #F44336;\n",
       "    }\n",
       "</style>\n"
      ],
      "text/plain": [
       "<IPython.core.display.HTML object>"
      ]
     },
     "metadata": {},
     "output_type": "display_data"
    },
    {
     "data": {
      "text/html": [],
      "text/plain": [
       "<IPython.core.display.HTML object>"
      ]
     },
     "metadata": {},
     "output_type": "display_data"
    },
    {
     "name": "stdout",
     "output_type": "stream",
     "text": [
      "18842.jpg -> 7\n"
     ]
    },
    {
     "data": {
      "image/png": "[encoded data removed]",
      "text/plain": [
       "PILImage mode=RGB size=28x28"
      ]
     },
     "execution_count": 31,
     "metadata": {},
     "output_type": "execute_result"
    }
   ],
   "source": [
    "# let's manually check a random image from test set\n",
    "from numpy import random\n",
    "\n",
    "r=random.randint(len(decoded))\n",
    "randfn = str(r)+'.jpg'\n",
    "img = PILImage.create(TEST_IMGS/randfn)\n",
    "rdecoded, _, rpred = learn.predict(img)\n",
    "print(randfn, '->',rdecoded)\n",
    "img"
   ]
  },
  {
   "cell_type": "code",
   "execution_count": 73,
   "id": "dd2a663b-1c0e-4a1b-bb9b-b1b5ceea79d7",
   "metadata": {},
   "outputs": [],
   "source": [
    "import gc\n",
    "!pip install -qq pynvml\n",
    "def report_gpu():\n",
    "    print(torch.cuda.list_gpu_processes())\n",
    "    gc.collect()\n",
    "    torch.cuda.empty_cache()"
   ]
  },
  {
   "cell_type": "code",
   "execution_count": 80,
   "id": "989f1493-7c28-434d-acf2-0827397e1fe9",
   "metadata": {},
   "outputs": [
    {
     "name": "stdout",
     "output_type": "stream",
     "text": [
      "GPU:0\n",
      "process      19586 uses     5999.000 MB GPU memory\n"
     ]
    }
   ],
   "source": [
    "report_gpu()"
   ]
  },
  {
   "cell_type": "markdown",
   "id": "8554882e-35b9-47fb-8715-a2576dcb1e94",
   "metadata": {},
   "source": [
    "## Try TTA"
   ]
  },
  {
   "cell_type": "code",
   "execution_count": 81,
   "id": "6cbfa5fa-7e02-42b8-9b96-4cf3de40e872",
   "metadata": {},
   "outputs": [
    {
     "data": {
      "text/html": [
       "\n",
       "<style>\n",
       "    /* Turns off some styling */\n",
       "    progress {\n",
       "        /* gets rid of default border in Firefox and Opera. */\n",
       "        border: none;\n",
       "        /* Needs to be in here for Safari polyfill so background images work as expected. */\n",
       "        background-size: auto;\n",
       "    }\n",
       "    progress:not([value]), progress:not([value])::-webkit-progress-bar {\n",
       "        background: repeating-linear-gradient(45deg, #7e7e7e, #7e7e7e 10px, #5c5c5c 10px, #5c5c5c 20px);\n",
       "    }\n",
       "    .progress-bar-interrupted, .progress-bar-interrupted::-webkit-progress-bar {\n",
       "        background: #F44336;\n",
       "    }\n",
       "</style>\n"
      ],
      "text/plain": [
       "<IPython.core.display.HTML object>"
      ]
     },
     "metadata": {},
     "output_type": "display_data"
    },
    {
     "data": {
      "text/html": [],
      "text/plain": [
       "<IPython.core.display.HTML object>"
      ]
     },
     "metadata": {},
     "output_type": "display_data"
    }
   ],
   "source": [
    "valid_dl = learn.dls.valid\n",
    "valid_preds,valid_targs = learn.get_preds(dl=valid_dl)"
   ]
  },
  {
   "cell_type": "code",
   "execution_count": 82,
   "id": "a7a055cf-4b92-4f04-8246-6a176da25cdf",
   "metadata": {},
   "outputs": [
    {
     "data": {
      "text/plain": [
       "TensorBase(0.0050)"
      ]
     },
     "execution_count": 82,
     "metadata": {},
     "output_type": "execute_result"
    }
   ],
   "source": [
    "error_rate(valid_preds, valid_targs)"
   ]
  },
  {
   "cell_type": "code",
   "execution_count": 83,
   "id": "5cb92366-1223-402c-ac90-cf0b00d385c6",
   "metadata": {},
   "outputs": [
    {
     "data": {
      "text/html": [
       "\n",
       "<style>\n",
       "    /* Turns off some styling */\n",
       "    progress {\n",
       "        /* gets rid of default border in Firefox and Opera. */\n",
       "        border: none;\n",
       "        /* Needs to be in here for Safari polyfill so background images work as expected. */\n",
       "        background-size: auto;\n",
       "    }\n",
       "    progress:not([value]), progress:not([value])::-webkit-progress-bar {\n",
       "        background: repeating-linear-gradient(45deg, #7e7e7e, #7e7e7e 10px, #5c5c5c 10px, #5c5c5c 20px);\n",
       "    }\n",
       "    .progress-bar-interrupted, .progress-bar-interrupted::-webkit-progress-bar {\n",
       "        background: #F44336;\n",
       "    }\n",
       "</style>\n"
      ],
      "text/plain": [
       "<IPython.core.display.HTML object>"
      ]
     },
     "metadata": {},
     "output_type": "display_data"
    },
    {
     "data": {
      "text/html": [
       "\n",
       "    <div>\n",
       "      <progress value='0' class='' max='15' style='width:300px; height:20px; vertical-align: middle;'></progress>\n",
       "      \n",
       "    </div>\n",
       "    \n"
      ],
      "text/plain": [
       "<IPython.core.display.HTML object>"
      ]
     },
     "metadata": {},
     "output_type": "display_data"
    },
    {
     "data": {
      "text/html": [
       "\n",
       "<style>\n",
       "    /* Turns off some styling */\n",
       "    progress {\n",
       "        /* gets rid of default border in Firefox and Opera. */\n",
       "        border: none;\n",
       "        /* Needs to be in here for Safari polyfill so background images work as expected. */\n",
       "        background-size: auto;\n",
       "    }\n",
       "    progress:not([value]), progress:not([value])::-webkit-progress-bar {\n",
       "        background: repeating-linear-gradient(45deg, #7e7e7e, #7e7e7e 10px, #5c5c5c 10px, #5c5c5c 20px);\n",
       "    }\n",
       "    .progress-bar-interrupted, .progress-bar-interrupted::-webkit-progress-bar {\n",
       "        background: #F44336;\n",
       "    }\n",
       "</style>\n"
      ],
      "text/plain": [
       "<IPython.core.display.HTML object>"
      ]
     },
     "metadata": {},
     "output_type": "display_data"
    },
    {
     "data": {
      "text/html": [],
      "text/plain": [
       "<IPython.core.display.HTML object>"
      ]
     },
     "metadata": {},
     "output_type": "display_data"
    },
    {
     "data": {
      "text/plain": [
       "TensorBase(0.0049)"
      ]
     },
     "execution_count": 83,
     "metadata": {},
     "output_type": "execute_result"
    }
   ],
   "source": [
    "tta_preds,_ = learn.tta(dl=valid_dl)\n",
    "error_rate(tta_preds, valid_targs)"
   ]
  },
  {
   "cell_type": "markdown",
   "id": "435d0678-ab29-4e2f-a03f-611d86f2731b",
   "metadata": {},
   "source": [
    "Next, do TTA on that test set:"
   ]
  },
  {
   "cell_type": "code",
   "execution_count": 84,
   "id": "2864e9df-bd0c-4f13-8948-958df706f9b6",
   "metadata": {},
   "outputs": [
    {
     "data": {
      "text/html": [
       "\n",
       "<style>\n",
       "    /* Turns off some styling */\n",
       "    progress {\n",
       "        /* gets rid of default border in Firefox and Opera. */\n",
       "        border: none;\n",
       "        /* Needs to be in here for Safari polyfill so background images work as expected. */\n",
       "        background-size: auto;\n",
       "    }\n",
       "    progress:not([value]), progress:not([value])::-webkit-progress-bar {\n",
       "        background: repeating-linear-gradient(45deg, #7e7e7e, #7e7e7e 10px, #5c5c5c 10px, #5c5c5c 20px);\n",
       "    }\n",
       "    .progress-bar-interrupted, .progress-bar-interrupted::-webkit-progress-bar {\n",
       "        background: #F44336;\n",
       "    }\n",
       "</style>\n"
      ],
      "text/plain": [
       "<IPython.core.display.HTML object>"
      ]
     },
     "metadata": {},
     "output_type": "display_data"
    },
    {
     "data": {
      "text/html": [
       "\n",
       "    <div>\n",
       "      <progress value='0' class='' max='15' style='width:300px; height:20px; vertical-align: middle;'></progress>\n",
       "      \n",
       "    </div>\n",
       "    \n"
      ],
      "text/plain": [
       "<IPython.core.display.HTML object>"
      ]
     },
     "metadata": {},
     "output_type": "display_data"
    },
    {
     "data": {
      "text/html": [
       "\n",
       "<style>\n",
       "    /* Turns off some styling */\n",
       "    progress {\n",
       "        /* gets rid of default border in Firefox and Opera. */\n",
       "        border: none;\n",
       "        /* Needs to be in here for Safari polyfill so background images work as expected. */\n",
       "        background-size: auto;\n",
       "    }\n",
       "    progress:not([value]), progress:not([value])::-webkit-progress-bar {\n",
       "        background: repeating-linear-gradient(45deg, #7e7e7e, #7e7e7e 10px, #5c5c5c 10px, #5c5c5c 20px);\n",
       "    }\n",
       "    .progress-bar-interrupted, .progress-bar-interrupted::-webkit-progress-bar {\n",
       "        background: #F44336;\n",
       "    }\n",
       "</style>\n"
      ],
      "text/plain": [
       "<IPython.core.display.HTML object>"
      ]
     },
     "metadata": {},
     "output_type": "display_data"
    },
    {
     "data": {
      "text/html": [],
      "text/plain": [
       "<IPython.core.display.HTML object>"
      ]
     },
     "metadata": {},
     "output_type": "display_data"
    }
   ],
   "source": [
    "preds, targets = learn.tta(dl=test_dl)"
   ]
  },
  {
   "cell_type": "code",
   "execution_count": 85,
   "id": "bbbb62fe-a990-47ef-bc61-2a07ca7624c2",
   "metadata": {},
   "outputs": [
    {
     "data": {
      "text/plain": [
       "0        2\n",
       "1        0\n",
       "2        9\n",
       "3        0\n",
       "4        3\n",
       "        ..\n",
       "27995    9\n",
       "27996    7\n",
       "27997    3\n",
       "27998    9\n",
       "27999    2\n",
       "Name: idxs, Length: 28000, dtype: object"
      ]
     },
     "execution_count": 85,
     "metadata": {},
     "output_type": "execute_result"
    }
   ],
   "source": [
    "idxs = preds.argmax(dim=1)\n",
    "vocab = np.array(learn.dls.vocab)\n",
    "decoded = pd.Series(vocab[idxs], name=\"idxs\")\n",
    "decoded"
   ]
  },
  {
   "cell_type": "markdown",
   "id": "35146feb-e852-40a8-8896-0a1cb8159e42",
   "metadata": {},
   "source": [
    "## Prepare submission file"
   ]
  },
  {
   "cell_type": "code",
   "execution_count": 87,
   "id": "343f5c87-a529-4ed0-8dc1-4356c0ef8ed7",
   "metadata": {},
   "outputs": [],
   "source": [
    "submission = pd.read_csv(path/'sample_submission.csv')"
   ]
  },
  {
   "cell_type": "code",
   "execution_count": 88,
   "id": "19b91a1a-8f25-4d29-82ed-61b485427413",
   "metadata": {},
   "outputs": [
    {
     "data": {
      "text/plain": [
       "(28000, 2)"
      ]
     },
     "execution_count": 88,
     "metadata": {},
     "output_type": "execute_result"
    }
   ],
   "source": [
    "submission.shape"
   ]
  },
  {
   "cell_type": "code",
   "execution_count": 89,
   "id": "d23ef042-b75c-42d6-8993-39df82b0d931",
   "metadata": {},
   "outputs": [
    {
     "data": {
      "text/html": [
       "<div>\n",
       "<style scoped>\n",
       "    .dataframe tbody tr th:only-of-type {\n",
       "        vertical-align: middle;\n",
       "    }\n",
       "\n",
       "    .dataframe tbody tr th {\n",
       "        vertical-align: top;\n",
       "    }\n",
       "\n",
       "    .dataframe thead th {\n",
       "        text-align: right;\n",
       "    }\n",
       "</style>\n",
       "<table border=\"1\" class=\"dataframe\">\n",
       "  <thead>\n",
       "    <tr style=\"text-align: right;\">\n",
       "      <th></th>\n",
       "      <th>ImageId</th>\n",
       "      <th>Label</th>\n",
       "    </tr>\n",
       "  </thead>\n",
       "  <tbody>\n",
       "    <tr>\n",
       "      <th>18842</th>\n",
       "      <td>18843</td>\n",
       "      <td>7</td>\n",
       "    </tr>\n",
       "  </tbody>\n",
       "</table>\n",
       "</div>"
      ],
      "text/plain": [
       "       ImageId Label\n",
       "18842    18843     7"
      ]
     },
     "execution_count": 89,
     "metadata": {},
     "output_type": "execute_result"
    }
   ],
   "source": [
    "submission.Label = decoded\n",
    "submission[r:r+1]"
   ]
  },
  {
   "cell_type": "code",
   "execution_count": 90,
   "id": "53316e75-86d4-4991-a444-f5f677a9d305",
   "metadata": {},
   "outputs": [
    {
     "data": {
      "text/html": [
       "<div>\n",
       "<style scoped>\n",
       "    .dataframe tbody tr th:only-of-type {\n",
       "        vertical-align: middle;\n",
       "    }\n",
       "\n",
       "    .dataframe tbody tr th {\n",
       "        vertical-align: top;\n",
       "    }\n",
       "\n",
       "    .dataframe thead th {\n",
       "        text-align: right;\n",
       "    }\n",
       "</style>\n",
       "<table border=\"1\" class=\"dataframe\">\n",
       "  <thead>\n",
       "    <tr style=\"text-align: right;\">\n",
       "      <th></th>\n",
       "      <th>ImageId</th>\n",
       "      <th>Label</th>\n",
       "    </tr>\n",
       "  </thead>\n",
       "  <tbody>\n",
       "    <tr>\n",
       "      <th>0</th>\n",
       "      <td>1</td>\n",
       "      <td>2</td>\n",
       "    </tr>\n",
       "    <tr>\n",
       "      <th>1</th>\n",
       "      <td>2</td>\n",
       "      <td>0</td>\n",
       "    </tr>\n",
       "    <tr>\n",
       "      <th>2</th>\n",
       "      <td>3</td>\n",
       "      <td>9</td>\n",
       "    </tr>\n",
       "    <tr>\n",
       "      <th>3</th>\n",
       "      <td>4</td>\n",
       "      <td>0</td>\n",
       "    </tr>\n",
       "    <tr>\n",
       "      <th>4</th>\n",
       "      <td>5</td>\n",
       "      <td>3</td>\n",
       "    </tr>\n",
       "    <tr>\n",
       "      <th>...</th>\n",
       "      <td>...</td>\n",
       "      <td>...</td>\n",
       "    </tr>\n",
       "    <tr>\n",
       "      <th>27995</th>\n",
       "      <td>27996</td>\n",
       "      <td>9</td>\n",
       "    </tr>\n",
       "    <tr>\n",
       "      <th>27996</th>\n",
       "      <td>27997</td>\n",
       "      <td>7</td>\n",
       "    </tr>\n",
       "    <tr>\n",
       "      <th>27997</th>\n",
       "      <td>27998</td>\n",
       "      <td>3</td>\n",
       "    </tr>\n",
       "    <tr>\n",
       "      <th>27998</th>\n",
       "      <td>27999</td>\n",
       "      <td>9</td>\n",
       "    </tr>\n",
       "    <tr>\n",
       "      <th>27999</th>\n",
       "      <td>28000</td>\n",
       "      <td>2</td>\n",
       "    </tr>\n",
       "  </tbody>\n",
       "</table>\n",
       "<p>28000 rows × 2 columns</p>\n",
       "</div>"
      ],
      "text/plain": [
       "       ImageId Label\n",
       "0            1     2\n",
       "1            2     0\n",
       "2            3     9\n",
       "3            4     0\n",
       "4            5     3\n",
       "...        ...   ...\n",
       "27995    27996     9\n",
       "27996    27997     7\n",
       "27997    27998     3\n",
       "27998    27999     9\n",
       "27999    28000     2\n",
       "\n",
       "[28000 rows x 2 columns]"
      ]
     },
     "execution_count": 90,
     "metadata": {},
     "output_type": "execute_result"
    }
   ],
   "source": [
    "submission"
   ]
  },
  {
   "cell_type": "markdown",
   "id": "dd294ed9-94f9-4ca9-a1a8-c25ba240267d",
   "metadata": {},
   "source": [
    "## Submit CSV to Kaggle"
   ]
  },
  {
   "cell_type": "code",
   "execution_count": 91,
   "id": "8947bd83-3de6-43d8-8f83-7b15354187c1",
   "metadata": {},
   "outputs": [
    {
     "name": "stdout",
     "output_type": "stream",
     "text": [
      "about to submit subs/digit-recognizer-convnext_large_in22k finetune 15 epochs with TTA-sub.csv to kaggle\n"
     ]
    },
    {
     "name": "stderr",
     "output_type": "stream",
     "text": [
      "100%|██████████| 208k/208k [00:00<00:00, 504kB/s]\n"
     ]
    },
    {
     "name": "stdout",
     "output_type": "stream",
     "text": [
      "Successfully submitted to Digit Recognizer\n"
     ]
    }
   ],
   "source": [
    "# write submission csv\n",
    "technique = 'convnext_large_in22k finetune 15 epochs with TTA'\n",
    "sub_filename = Path('subs')/(COMPETITION_NAME+'-'+technique+'-sub.csv')\n",
    "submission.to_csv(sub_filename, index=False)\n",
    "\n",
    "if not iskaggle:\n",
    "    #for sec in tqdm(range(9000)):\n",
    "    #    time.sleep(1)\n",
    "    print('about to submit', sub_filename, 'to kaggle')\n",
    "    ret = kaggle.api.competition_submit(sub_filename, technique, COMPETITION_NAME)\n",
    "    print(ret)"
   ]
  },
  {
   "cell_type": "markdown",
   "id": "6bf60ee9-ce1e-427a-a3e8-f7b670630a27",
   "metadata": {},
   "source": [
    "## Save the best model so far"
   ]
  },
  {
   "cell_type": "code",
   "execution_count": 96,
   "id": "47302183-6fe9-41cc-9687-9a4dcf6dc1df",
   "metadata": {},
   "outputs": [
    {
     "name": "stdout",
     "output_type": "stream",
     "text": [
      "digit-recognizer\n"
     ]
    }
   ],
   "source": [
    "print(COMPETITION_NAME)"
   ]
  },
  {
   "cell_type": "code",
   "execution_count": 103,
   "id": "cbb953df-3f95-4b20-9a86-39b30e4ca1d6",
   "metadata": {},
   "outputs": [],
   "source": [
    "learn.export(fname='../../../models/'+(COMPETITION_NAME+'-'+technique)+'.pkl')"
   ]
  }
 ],
 "metadata": {
  "kernelspec": {
   "display_name": "Python 3 (ipykernel)",
   "language": "python",
   "name": "python3"
  },
  "language_info": {
   "codemirror_mode": {
    "name": "ipython",
    "version": 3
   },
   "file_extension": ".py",
   "mimetype": "text/x-python",
   "name": "python",
   "nbconvert_exporter": "python",
   "pygments_lexer": "ipython3",
   "version": "3.9.13"
  }
 },
 "nbformat": 4,
 "nbformat_minor": 5
}
