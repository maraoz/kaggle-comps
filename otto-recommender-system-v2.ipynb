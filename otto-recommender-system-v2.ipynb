{
 "cells": [
  {
   "cell_type": "code",
   "execution_count": 1,
   "id": "357d7845-cf31-4e32-ab30-0ff65666a317",
   "metadata": {},
   "outputs": [
    {
     "name": "stdout",
     "output_type": "stream",
     "text": [
      "done\n"
     ]
    }
   ],
   "source": [
    "# Kaggle COMPETITION bootstrapping\n",
    "COMPETITION_NAME = 'otto-recommender-system'\n",
    "\n",
    "!pip install -qq fastai\n",
    "!pip install -qq kaggle\n",
    "\n",
    "from fastai.imports import *\n",
    "np.set_printoptions(linewidth=130)\n",
    "\n",
    "iskaggle = os.environ.get('KAGGLE_KERNEL_RUN_TYPE', '')\n",
    "\n",
    "# get competition data\n",
    "if iskaggle:\n",
    "    path = Path('../input/'+COMPETITION_NAME)\n",
    "else:\n",
    "    DOWNLOADS = Path('downloads')\n",
    "    import zipfile,kaggle\n",
    "    path = DOWNLOADS / COMPETITION_NAME\n",
    "    if not path.is_dir():\n",
    "        kaggle.api.competition_download_cli(COMPETITION_NAME, path=DOWNLOADS)\n",
    "        zipfile.ZipFile(f'{path}.zip').extractall(path)\n",
    "print('done')"
   ]
  },
  {
   "cell_type": "markdown",
   "id": "54a7479c-e2a1-4591-9ed6-5d6714dc897b",
   "metadata": {},
   "source": [
    "### trimming the beast dataset"
   ]
  },
  {
   "cell_type": "code",
   "execution_count": 2,
   "id": "beeb6eda-d8a7-4a51-adaa-1045f67bfaa2",
   "metadata": {},
   "outputs": [
    {
     "data": {
      "text/plain": [
       "Path('downloads/otto-recommender-system')"
      ]
     },
     "execution_count": 2,
     "metadata": {},
     "output_type": "execute_result"
    }
   ],
   "source": [
    "path"
   ]
  },
  {
   "cell_type": "code",
   "execution_count": null,
   "id": "08816dcc-b3e3-452a-8e4b-d993047ef6d1",
   "metadata": {},
   "outputs": [],
   "source": [
    "!ls {path}"
   ]
  },
  {
   "cell_type": "code",
   "execution_count": 5,
   "id": "092bff77-5016-4931-842a-a0a5414e8900",
   "metadata": {},
   "outputs": [
    {
     "name": "stdout",
     "output_type": "stream",
     "text": [
      "176M\tdownloads/otto-recommender-system/sample_submission.csv\n",
      "384M\tdownloads/otto-recommender-system/test.jsonl\n",
      "1.1G\tdownloads/otto-recommender-system/train-small.jsonl\n"
     ]
    }
   ],
   "source": [
    "!du -sh {path}/*"
   ]
  },
  {
   "cell_type": "code",
   "execution_count": null,
   "id": "4f700c07-b727-47ef-8f94-1014055d3310",
   "metadata": {},
   "outputs": [
    {
     "name": "stdout",
     "output_type": "stream",
     "text": [
      "12899779 downloads/otto-recommender-system/train.jsonl\n"
     ]
    }
   ],
   "source": [
    "!wc -l {path}/train.jsonl"
   ]
  },
  {
   "cell_type": "markdown",
   "id": "180e4e07-ef7a-481c-908b-87d533a4f8b0",
   "metadata": {},
   "source": [
    "holy wacamoli! 12M lines! let's remove like 90%"
   ]
  },
  {
   "cell_type": "code",
   "execution_count": 3,
   "id": "1796c173-65b6-4e84-bded-4c8baefdc302",
   "metadata": {},
   "outputs": [],
   "source": [
    "from tqdm.auto import tqdm"
   ]
  },
  {
   "cell_type": "code",
   "execution_count": 10,
   "id": "fe92e0e4-767b-49fb-a31b-d9ef0e95f9b3",
   "metadata": {},
   "outputs": [
    {
     "data": {
      "application/vnd.jupyter.widget-view+json": {
       "model_id": "02188ddf6e964991b04396e5e55059b9",
       "version_major": 2,
       "version_minor": 0
      },
      "text/plain": [
       "0it [00:00, ?it/s]"
      ]
     },
     "metadata": {},
     "output_type": "display_data"
    }
   ],
   "source": [
    "with open(path/'train.jsonl') as f:\n",
    "    with open(path/'train-small.jsonl', 'w') as fout:\n",
    "        for i, line in tqdm(enumerate(f.readlines())):\n",
    "            if not i % 10 == 0: continue\n",
    "            fout.write(line)"
   ]
  },
  {
   "cell_type": "code",
   "execution_count": 13,
   "id": "a8e95efa-3116-4be2-858e-6175528f523a",
   "metadata": {},
   "outputs": [
    {
     "name": "stdout",
     "output_type": "stream",
     "text": [
      "176M\tdownloads/otto-recommender-system/sample_submission.csv\n",
      "384M\tdownloads/otto-recommender-system/test.jsonl\n",
      "1.1G\tdownloads/otto-recommender-system/train-small.jsonl\n",
      "11G\tdownloads/otto-recommender-system/train.jsonl\n"
     ]
    }
   ],
   "source": [
    "!du -sh {path}/*"
   ]
  },
  {
   "cell_type": "code",
   "execution_count": 15,
   "id": "acf19b2e-b767-4d37-b5f8-45d5b26fdbe1",
   "metadata": {
    "collapsed": true,
    "jupyter": {
     "outputs_hidden": true
    },
    "tags": []
   },
   "outputs": [
    {
     "name": "stdout",
     "output_type": "stream",
     "text": [
      "rm: cannot remove 'downloads/otto-recommender-system/train.jsonl': No such file or directory\n"
     ]
    }
   ],
   "source": [
    "!rm {path/'train.jsonl'}"
   ]
  },
  {
   "cell_type": "code",
   "execution_count": 16,
   "id": "88bb3fe8-2c4a-42d2-a528-8cc9cee9eb38",
   "metadata": {},
   "outputs": [
    {
     "name": "stdout",
     "output_type": "stream",
     "text": [
      "176M\tdownloads/otto-recommender-system/sample_submission.csv\n",
      "384M\tdownloads/otto-recommender-system/test.jsonl\n",
      "1.1G\tdownloads/otto-recommender-system/train-small.jsonl\n"
     ]
    }
   ],
   "source": [
    "!du -sh {path}/*"
   ]
  },
  {
   "cell_type": "markdown",
   "id": "a3a74456-35ed-47d5-8106-9bbabc80c873",
   "metadata": {},
   "source": [
    "done!"
   ]
  },
  {
   "cell_type": "markdown",
   "id": "31f4fd79-ba8e-43cc-ade1-661072ac90a4",
   "metadata": {},
   "source": [
    "### Data loading"
   ]
  },
  {
   "cell_type": "code",
   "execution_count": 4,
   "id": "e8638a35-116f-4905-8d72-d8c251e1d764",
   "metadata": {},
   "outputs": [],
   "source": [
    "df = pd.read_json(path/'train-small.jsonl', lines=True)"
   ]
  },
  {
   "cell_type": "code",
   "execution_count": 5,
   "id": "b4cadbd3-e61f-413f-a1ad-670f87976e69",
   "metadata": {
    "tags": []
   },
   "outputs": [],
   "source": [
    "df.set_index('session', drop=True, inplace=True)"
   ]
  },
  {
   "cell_type": "code",
   "execution_count": 6,
   "id": "0b831a48-19e1-49f9-bec0-e78cbea52b2e",
   "metadata": {},
   "outputs": [
    {
     "data": {
      "text/html": [
       "<div>\n",
       "<style scoped>\n",
       "    .dataframe tbody tr th:only-of-type {\n",
       "        vertical-align: middle;\n",
       "    }\n",
       "\n",
       "    .dataframe tbody tr th {\n",
       "        vertical-align: top;\n",
       "    }\n",
       "\n",
       "    .dataframe thead th {\n",
       "        text-align: right;\n",
       "    }\n",
       "</style>\n",
       "<table border=\"1\" class=\"dataframe\">\n",
       "  <thead>\n",
       "    <tr style=\"text-align: right;\">\n",
       "      <th></th>\n",
       "      <th>events</th>\n",
       "    </tr>\n",
       "    <tr>\n",
       "      <th>session</th>\n",
       "      <th></th>\n",
       "    </tr>\n",
       "  </thead>\n",
       "  <tbody>\n",
       "    <tr>\n",
       "      <th>0</th>\n",
       "      <td>[{'aid': 1517085, 'ts': 1659304800025, 'type': 'clicks'}, {'aid': 1563459, 'ts': 1659304904511, 'type': 'clicks'}, {'aid': 1309446, 'ts': 1659367439426, 'type': 'clicks'}, {'aid': 16246, 'ts': 1659367719997, 'type': 'clicks'}, {'aid': 1781822, 'ts': 1659367871344, 'type': 'clicks'}, {'aid': 1152674, 'ts': 1659367885796, 'type': 'clicks'}, {'aid': 1649869, 'ts': 1659369893840, 'type': 'carts'}, {'aid': 461689, 'ts': 1659369898050, 'type': 'carts'}, {'aid': 305831, 'ts': 1659370027105, 'type': 'orders'}, {'aid': 461689, 'ts': 1659370027105, 'type': 'orders'}, {'aid': 362233, 'ts': 1659370064...</td>\n",
       "    </tr>\n",
       "    <tr>\n",
       "      <th>10</th>\n",
       "      <td>[{'aid': 271630, 'ts': 1659304800151, 'type': 'clicks'}, {'aid': 967918, 'ts': 1660941383175, 'type': 'clicks'}, {'aid': 218627, 'ts': 1660941816696, 'type': 'clicks'}, {'aid': 766870, 'ts': 1660987307792, 'type': 'clicks'}, {'aid': 1071033, 'ts': 1661633415563, 'type': 'clicks'}, {'aid': 226954, 'ts': 1661633426190, 'type': 'clicks'}]</td>\n",
       "    </tr>\n",
       "    <tr>\n",
       "      <th>20</th>\n",
       "      <td>[{'aid': 817105, 'ts': 1659304800357, 'type': 'clicks'}, {'aid': 1539165, 'ts': 1659304816128, 'type': 'clicks'}, {'aid': 1194447, 'ts': 1660492223917, 'type': 'clicks'}, {'aid': 1726487, 'ts': 1661288846529, 'type': 'clicks'}, {'aid': 1099451, 'ts': 1661350978602, 'type': 'clicks'}, {'aid': 929999, 'ts': 1661350994694, 'type': 'clicks'}, {'aid': 1099451, 'ts': 1661350999891, 'type': 'clicks'}]</td>\n",
       "    </tr>\n",
       "  </tbody>\n",
       "</table>\n",
       "</div>"
      ],
      "text/plain": [
       "                                                                                                                                                                                                                                                                                                                                                                                                                                                                                                                                                                                                                          events\n",
       "session                                                                                                                                                                                                                                                                                                                                                                                                                                                                                                                                                                                                                         \n",
       "0        [{'aid': 1517085, 'ts': 1659304800025, 'type': 'clicks'}, {'aid': 1563459, 'ts': 1659304904511, 'type': 'clicks'}, {'aid': 1309446, 'ts': 1659367439426, 'type': 'clicks'}, {'aid': 16246, 'ts': 1659367719997, 'type': 'clicks'}, {'aid': 1781822, 'ts': 1659367871344, 'type': 'clicks'}, {'aid': 1152674, 'ts': 1659367885796, 'type': 'clicks'}, {'aid': 1649869, 'ts': 1659369893840, 'type': 'carts'}, {'aid': 461689, 'ts': 1659369898050, 'type': 'carts'}, {'aid': 305831, 'ts': 1659370027105, 'type': 'orders'}, {'aid': 461689, 'ts': 1659370027105, 'type': 'orders'}, {'aid': 362233, 'ts': 1659370064...\n",
       "10                                                                                                                                                                                                                                                                             [{'aid': 271630, 'ts': 1659304800151, 'type': 'clicks'}, {'aid': 967918, 'ts': 1660941383175, 'type': 'clicks'}, {'aid': 218627, 'ts': 1660941816696, 'type': 'clicks'}, {'aid': 766870, 'ts': 1660987307792, 'type': 'clicks'}, {'aid': 1071033, 'ts': 1661633415563, 'type': 'clicks'}, {'aid': 226954, 'ts': 1661633426190, 'type': 'clicks'}]\n",
       "20                                                                                                                                                                                                                 [{'aid': 817105, 'ts': 1659304800357, 'type': 'clicks'}, {'aid': 1539165, 'ts': 1659304816128, 'type': 'clicks'}, {'aid': 1194447, 'ts': 1660492223917, 'type': 'clicks'}, {'aid': 1726487, 'ts': 1661288846529, 'type': 'clicks'}, {'aid': 1099451, 'ts': 1661350978602, 'type': 'clicks'}, {'aid': 929999, 'ts': 1661350994694, 'type': 'clicks'}, {'aid': 1099451, 'ts': 1661350999891, 'type': 'clicks'}]"
      ]
     },
     "execution_count": 6,
     "metadata": {},
     "output_type": "execute_result"
    }
   ],
   "source": [
    "df.head(3)"
   ]
  },
  {
   "cell_type": "code",
   "execution_count": 7,
   "id": "252807a1-219e-4fff-b2fd-0b532391b3d0",
   "metadata": {},
   "outputs": [
    {
     "name": "stdout",
     "output_type": "stream",
     "text": [
      "This session was 276 actions long \n",
      "\n",
      "The first action in the session: \n",
      " {'aid': 1517085, 'ts': 1659304800025, 'type': 'clicks'} \n",
      "\n",
      "The first session elapsed: 27 days, 13:09:43.682000 \n",
      "\n",
      "The first session contains the following frequency of actions: {'clicks': 255, 'carts': 17, 'orders': 4}\n"
     ]
    }
   ],
   "source": [
    "# Let's look at an example session and print out some basic info\n",
    "from datetime import timedelta\n",
    "\n",
    "example_session = df.iloc[0].item()\n",
    "\n",
    "print(f'This session was {len(example_session)} actions long \\n')\n",
    "print(f'The first action in the session: \\n {example_session[0]} \\n')\n",
    "\n",
    "\n",
    "time_elapsed = example_session[-1][\"ts\"] - example_session[0][\"ts\"]\n",
    "print(f'The first session elapsed: {str(timedelta(milliseconds=time_elapsed))} \\n')\n",
    "\n",
    "action_counts = {}\n",
    "for action in example_session:\n",
    "    action_counts[action['type']] = action_counts.get(action['type'], 0) + 1  \n",
    "print(f'The first session contains the following frequency of actions: {action_counts}')"
   ]
  },
  {
   "cell_type": "markdown",
   "id": "a979adc2-2ef1-4e1b-8cbc-8dcbc5a52659",
   "metadata": {},
   "source": [
    "### EDA from baseline"
   ]
  },
  {
   "cell_type": "code",
   "execution_count": 8,
   "id": "2b4e7401-8e4d-43fc-88cb-b5c59e10cc39",
   "metadata": {
    "tags": []
   },
   "outputs": [
    {
     "data": {
      "application/vnd.jupyter.widget-view+json": {
       "model_id": "f4cab3d6ae9847de86838b5ac82e2075",
       "version_major": 2,
       "version_minor": 0
      },
      "text/plain": [
       "  0%|          | 0/1289978 [00:00<?, ?it/s]"
      ]
     },
     "metadata": {},
     "output_type": "display_data"
    }
   ],
   "source": [
    "action_counts_list, article_id_counts_list, session_length_time_list, session_length_action_list = ([] for i in range(4))\n",
    "overall_action_counts = {}\n",
    "overall_article_id_counts = {}\n",
    "\n",
    "for i, row in tqdm(df.iterrows(), total=len(df)):\n",
    "    \n",
    "    actions = row['events']\n",
    "    \n",
    "    # Get the frequency of actions and article_ids\n",
    "    action_counts = {}\n",
    "    article_id_counts = {}\n",
    "    for action in actions:\n",
    "        action_counts[action['type']] = action_counts.get(action['type'], 0) + 1\n",
    "        article_id_counts[action['aid']] = article_id_counts.get(action['aid'], 0) + 1\n",
    "        overall_action_counts[action['type']] = overall_action_counts.get(action['type'], 0) + 1\n",
    "        overall_article_id_counts[action['aid']] = overall_article_id_counts.get(action['aid'], 0) + 1\n",
    "        \n",
    "    # Get the length of the session\n",
    "    session_length_time = actions[-1]['ts'] - actions[0]['ts']\n",
    "    \n",
    "    # Add to list\n",
    "    action_counts_list.append(action_counts)\n",
    "    article_id_counts_list.append(article_id_counts)\n",
    "    session_length_time_list.append(session_length_time)\n",
    "    session_length_action_list.append(len(actions))"
   ]
  },
  {
   "cell_type": "code",
   "execution_count": 9,
   "id": "e6383868-74b9-430c-bf6a-70dfbf335916",
   "metadata": {},
   "outputs": [],
   "source": [
    "df['action_counts'] = action_counts_list\n",
    "df['article_id_counts'] = article_id_counts_list\n",
    "df['session_length_unix'] = session_length_time_list\n",
    "df['session_length_hours'] = df['session_length_unix']*2.77778e-7  # Convert to hours\n",
    "df['session_length_action'] = session_length_action_list"
   ]
  },
  {
   "cell_type": "code",
   "execution_count": 10,
   "id": "be336b1a-eb95-447d-a04d-c2f1f01c47d9",
   "metadata": {},
   "outputs": [
    {
     "data": {
      "text/html": [
       "<div>\n",
       "<style scoped>\n",
       "    .dataframe tbody tr th:only-of-type {\n",
       "        vertical-align: middle;\n",
       "    }\n",
       "\n",
       "    .dataframe tbody tr th {\n",
       "        vertical-align: top;\n",
       "    }\n",
       "\n",
       "    .dataframe thead th {\n",
       "        text-align: right;\n",
       "    }\n",
       "</style>\n",
       "<table border=\"1\" class=\"dataframe\">\n",
       "  <thead>\n",
       "    <tr style=\"text-align: right;\">\n",
       "      <th></th>\n",
       "      <th>events</th>\n",
       "      <th>action_counts</th>\n",
       "      <th>article_id_counts</th>\n",
       "      <th>session_length_unix</th>\n",
       "      <th>session_length_hours</th>\n",
       "      <th>session_length_action</th>\n",
       "    </tr>\n",
       "    <tr>\n",
       "      <th>session</th>\n",
       "      <th></th>\n",
       "      <th></th>\n",
       "      <th></th>\n",
       "      <th></th>\n",
       "      <th></th>\n",
       "      <th></th>\n",
       "    </tr>\n",
       "  </thead>\n",
       "  <tbody>\n",
       "    <tr>\n",
       "      <th>0</th>\n",
       "      <td>[{'aid': 1517085, 'ts': 1659304800025, 'type': 'clicks'}, {'aid': 1563459, 'ts': 1659304904511, 'type': 'clicks'}, {'aid': 1309446, 'ts': 1659367439426, 'type': 'clicks'}, {'aid': 16246, 'ts': 1659367719997, 'type': 'clicks'}, {'aid': 1781822, 'ts': 1659367871344, 'type': 'clicks'}, {'aid': 1152674, 'ts': 1659367885796, 'type': 'clicks'}, {'aid': 1649869, 'ts': 1659369893840, 'type': 'carts'}, {'aid': 461689, 'ts': 1659369898050, 'type': 'carts'}, {'aid': 305831, 'ts': 1659370027105, 'type': 'orders'}, {'aid': 461689, 'ts': 1659370027105, 'type': 'orders'}, {'aid': 362233, 'ts': 1659370064...</td>\n",
       "      <td>{'clicks': 255, 'carts': 17, 'orders': 4}</td>\n",
       "      <td>{1517085: 1, 1563459: 1, 1309446: 1, 16246: 1, 1781822: 1, 1152674: 1, 1649869: 4, 461689: 3, 305831: 3, 362233: 3, 984597: 2, 803544: 1, 1110941: 1, 1190046: 2, 1760685: 1, 631008: 1, 1650637: 2, 313546: 1, 979517: 1, 351157: 1, 1062149: 1, 1157384: 1, 1841388: 1, 1469630: 1, 1110548: 3, 1650114: 1, 1604396: 1, 1009750: 1, 1800933: 1, 495779: 2, 394655: 1, 789245: 3, 366890: 1, 361317: 1, 1700164: 2, 1755597: 1, 784978: 3, 1171505: 1, 1521766: 2, 1725503: 1, 528847: 1, 1816325: 1, 1072782: 5, 173702: 2, 1407538: 1, 1629651: 1, 1768568: 1, 1318324: 2, 1840418: 1, 1813509: 4, 667924: 1, 122...</td>\n",
       "      <td>2380183682</td>\n",
       "      <td>661.162663</td>\n",
       "      <td>276</td>\n",
       "    </tr>\n",
       "  </tbody>\n",
       "</table>\n",
       "</div>"
      ],
      "text/plain": [
       "                                                                                                                                                                                                                                                                                                                                                                                                                                                                                                                                                                                                                          events  \\\n",
       "session                                                                                                                                                                                                                                                                                                                                                                                                                                                                                                                                                                                                                            \n",
       "0        [{'aid': 1517085, 'ts': 1659304800025, 'type': 'clicks'}, {'aid': 1563459, 'ts': 1659304904511, 'type': 'clicks'}, {'aid': 1309446, 'ts': 1659367439426, 'type': 'clicks'}, {'aid': 16246, 'ts': 1659367719997, 'type': 'clicks'}, {'aid': 1781822, 'ts': 1659367871344, 'type': 'clicks'}, {'aid': 1152674, 'ts': 1659367885796, 'type': 'clicks'}, {'aid': 1649869, 'ts': 1659369893840, 'type': 'carts'}, {'aid': 461689, 'ts': 1659369898050, 'type': 'carts'}, {'aid': 305831, 'ts': 1659370027105, 'type': 'orders'}, {'aid': 461689, 'ts': 1659370027105, 'type': 'orders'}, {'aid': 362233, 'ts': 1659370064...   \n",
       "\n",
       "                                     action_counts  \\\n",
       "session                                              \n",
       "0        {'clicks': 255, 'carts': 17, 'orders': 4}   \n",
       "\n",
       "                                                                                                                                                                                                                                                                                                                                                                                                                                                                                                                                                                                                               article_id_counts  \\\n",
       "session                                                                                                                                                                                                                                                                                                                                                                                                                                                                                                                                                                                                                            \n",
       "0        {1517085: 1, 1563459: 1, 1309446: 1, 16246: 1, 1781822: 1, 1152674: 1, 1649869: 4, 461689: 3, 305831: 3, 362233: 3, 984597: 2, 803544: 1, 1110941: 1, 1190046: 2, 1760685: 1, 631008: 1, 1650637: 2, 313546: 1, 979517: 1, 351157: 1, 1062149: 1, 1157384: 1, 1841388: 1, 1469630: 1, 1110548: 3, 1650114: 1, 1604396: 1, 1009750: 1, 1800933: 1, 495779: 2, 394655: 1, 789245: 3, 366890: 1, 361317: 1, 1700164: 2, 1755597: 1, 784978: 3, 1171505: 1, 1521766: 2, 1725503: 1, 528847: 1, 1816325: 1, 1072782: 5, 173702: 2, 1407538: 1, 1629651: 1, 1768568: 1, 1318324: 2, 1840418: 1, 1813509: 4, 667924: 1, 122...   \n",
       "\n",
       "         session_length_unix  session_length_hours  session_length_action  \n",
       "session                                                                    \n",
       "0                 2380183682            661.162663                    276  "
      ]
     },
     "execution_count": 10,
     "metadata": {},
     "output_type": "execute_result"
    }
   ],
   "source": [
    "df.head(1)"
   ]
  },
  {
   "cell_type": "code",
   "execution_count": 11,
   "id": "a4032fea-3c9e-4e24-a300-f0a2296e2f97",
   "metadata": {},
   "outputs": [],
   "source": [
    "import matplotlib.pyplot as plt\n",
    "import seaborn as sns"
   ]
  },
  {
   "cell_type": "code",
   "execution_count": 12,
   "id": "232ab455-e3fe-4f6c-8eaa-b362d1eac666",
   "metadata": {},
   "outputs": [
    {
     "data": {
      "image/png": "[encoded data removed]",
      "text/plain": [
       "<Figure size 576x432 with 1 Axes>"
      ]
     },
     "metadata": {
      "needs_background": "light"
     },
     "output_type": "display_data"
    }
   ],
   "source": [
    "total_actions = sum(overall_action_counts.values())\n",
    "\n",
    "plt.figure(figsize=(8,6))\n",
    "sns.barplot(x=list(overall_action_counts.keys()), y=[i/total_actions for i in overall_action_counts.values()]);\n",
    "plt.title('Action frequency', fontsize=12)\n",
    "plt.ylabel('Count', fontsize=12)\n",
    "plt.xlabel('Category', fontsize=12)\n",
    "plt.show()"
   ]
  },
  {
   "cell_type": "code",
   "execution_count": 13,
   "id": "b218b2aa-d6db-4045-b2c1-b9b9df7eeb2c",
   "metadata": {},
   "outputs": [
    {
     "data": {
      "text/plain": [
       "<matplotlib.lines.Line2D at 0x7fdae132b670>"
      ]
     },
     "execution_count": 13,
     "metadata": {},
     "output_type": "execute_result"
    },
    {
     "data": {
      "image/png": "[encoded data removed]",
      "text/plain": [
       "<Figure size 1728x720 with 2 Axes>"
      ]
     },
     "metadata": {
      "needs_background": "light"
     },
     "output_type": "display_data"
    }
   ],
   "source": [
    "import warnings\n",
    "warnings.filterwarnings('ignore')\n",
    "\n",
    "fig, ax = plt.subplots(1,2, figsize=(24, 10))\n",
    "\n",
    "p = sns.distplot(df['session_length_action'], color=\"y\", bins= 70, ax=ax[0], kde=False)\n",
    "p.set_xlabel(\"Number of actions\", fontsize = 16)\n",
    "p.set_ylabel(\"Density\", fontsize = 16)\n",
    "p.set_title(\"Distribution of the number of actions taken in each session\", fontsize = 14)\n",
    "p.axvline(df['session_length_action'].mean(), color='r', linestyle='--', label=\"Mean\")\n",
    "\n",
    "p = sns.distplot(df['session_length_hours'], color=\"b\", bins= 70, ax=ax[1], kde=False)\n",
    "p.set_xlabel(\"Hours\", fontsize = 16)\n",
    "p.set_ylabel(\"Density\", fontsize = 16)\n",
    "p.set_title(\"Length of each session\", fontsize = 16);\n",
    "p.axvline(df['session_length_hours'].mean(), color='r', linestyle='--', label=\"Mean\")"
   ]
  },
  {
   "cell_type": "code",
   "execution_count": 19,
   "id": "38eda79a-9e65-46e5-85c0-e8375de0d581",
   "metadata": {},
   "outputs": [],
   "source": [
    "df.rename(columns = {'session_length_action': 'actions'}, inplace=True)"
   ]
  },
  {
   "cell_type": "code",
   "execution_count": 21,
   "id": "17b57ad2-a47c-4ba0-9216-998ea5e5dc50",
   "metadata": {},
   "outputs": [],
   "source": [
    "df.rename(columns = {'session_length_hours': 'hours'}, inplace=True)"
   ]
  },
  {
   "cell_type": "code",
   "execution_count": 23,
   "id": "22f94c88-69b4-4905-8bf9-39609cc02bb7",
   "metadata": {},
   "outputs": [],
   "source": [
    "import numpy as np"
   ]
  },
  {
   "cell_type": "code",
   "execution_count": 24,
   "id": "4d709fea-f80a-416a-8a85-69016b4535b5",
   "metadata": {},
   "outputs": [],
   "source": [
    "df['log_hours'] = np.log(df.hours)"
   ]
  },
  {
   "cell_type": "code",
   "execution_count": 28,
   "id": "eae795ed-d419-434f-9e4a-d8ddebfe27b0",
   "metadata": {},
   "outputs": [
    {
     "data": {
      "text/plain": [
       "<AxesSubplot:>"
      ]
     },
     "execution_count": 28,
     "metadata": {},
     "output_type": "execute_result"
    },
    {
     "data": {
      "image/png": "[encoded data removed]",
      "text/plain": [
       "<Figure size 432x288 with 1 Axes>"
      ]
     },
     "metadata": {
      "needs_background": "light"
     },
     "output_type": "display_data"
    }
   ],
   "source": [
    "df.hours.hist()"
   ]
  },
  {
   "cell_type": "code",
   "execution_count": 33,
   "id": "433506cc-cf72-4aa4-936d-1e07ff4c79aa",
   "metadata": {},
   "outputs": [
    {
     "name": "stdout",
     "output_type": "stream",
     "text": [
      "63.9% of the sessions had less than 10 actions\n"
     ]
    }
   ],
   "source": [
    "print(f'{round(len(df[df[\"actions\"]<10])/len(df),3)*100}% of the sessions had less than 10 actions')"
   ]
  },
  {
   "cell_type": "code",
   "execution_count": 36,
   "id": "42171171-ff82-494c-ac91-c52c9d3495c2",
   "metadata": {},
   "outputs": [
    {
     "data": {
      "image/png": "[encoded data removed]",
      "text/plain": [
       "<Figure size 576x432 with 1 Axes>"
      ]
     },
     "metadata": {
      "needs_background": "light"
     },
     "output_type": "display_data"
    }
   ],
   "source": [
    "article_id_freq = list(overall_article_id_counts.values())\n",
    "cut_off = [i for i in article_id_freq if i<30]\n",
    "\n",
    "plt.figure(figsize=(8,6))\n",
    "sns.distplot(cut_off, bins=30, kde=False);\n",
    "plt.title(f'Article ID frequency', fontsize=12)\n",
    "plt.ylabel('Count', fontsize=12)\n",
    "plt.xlabel('Article', fontsize=12);"
   ]
  },
  {
   "cell_type": "code",
   "execution_count": 38,
   "id": "f52afe20-0681-48df-b304-a65e37ee663f",
   "metadata": {},
   "outputs": [
    {
     "name": "stdout",
     "output_type": "stream",
     "text": [
      "Frequency of most common articles: [10691, 11680, 11869, 12213, 13071] \n",
      "\n",
      "IDs for those common articles: [1460571, 485256, 108125, 29735, 1733943]\n"
     ]
    }
   ],
   "source": [
    "### Look at the most interacted with articles ###\n",
    "from heapq import nlargest\n",
    "print(f'Frequency of most common articles: {sorted(list(overall_article_id_counts.values()))[-5:]} \\n')\n",
    "res = nlargest(5, overall_article_id_counts, key = overall_article_id_counts.get)\n",
    "print(f'IDs for those common articles: {res}')"
   ]
  },
  {
   "cell_type": "markdown",
   "id": "8e0aa5dd-dfd4-4d43-b17f-8cdf162ec55d",
   "metadata": {},
   "source": [
    "### some basic modeling from baseline"
   ]
  },
  {
   "cell_type": "code",
   "execution_count": 42,
   "id": "f1d8e27b-8d36-43d9-ba61-c9be213bed15",
   "metadata": {},
   "outputs": [],
   "source": [
    "from collections import Counter"
   ]
  },
  {
   "cell_type": "code",
   "execution_count": 43,
   "id": "c93bab9b-c21f-4518-a15b-0ea00c4506b8",
   "metadata": {},
   "outputs": [
    {
     "data": {
      "application/vnd.jupyter.widget-view+json": {
       "model_id": "52bf1e3b9d324426ab5eb8c47daf9742",
       "version_major": 2,
       "version_minor": 0
      },
      "text/plain": [
       "0it [00:00, ?it/s]"
      ]
     },
     "metadata": {},
     "output_type": "display_data"
    }
   ],
   "source": [
    "clicks_article_list = []\n",
    "carts_article_list = []\n",
    "orders_article_list = []\n",
    "\n",
    "for i, row in tqdm(df.iterrows()):\n",
    "    actions = row['events']\n",
    "    for action in actions:\n",
    "        if action['type'] == 'clicks':\n",
    "            clicks_article_list.append(action['aid'])\n",
    "        elif action['type'] == 'carts':\n",
    "            carts_article_list.append(action['aid'])\n",
    "        else:\n",
    "            orders_article_list.append(action['aid'])"
   ]
  },
  {
   "cell_type": "code",
   "execution_count": 44,
   "id": "ef9c0932-e6ad-4926-bf9d-3a7c57b81313",
   "metadata": {},
   "outputs": [],
   "source": [
    "# Create dictionaries with articles and their frequencies\n",
    "article_click_freq = Counter(clicks_article_list)\n",
    "article_carts_freq = Counter(carts_article_list)\n",
    "article_order_freq = Counter(orders_article_list)"
   ]
  },
  {
   "cell_type": "code",
   "execution_count": 45,
   "id": "381e37ef-fdc1-4972-81f0-55d8effae752",
   "metadata": {},
   "outputs": [],
   "source": [
    "# Get the 20 most frequent articles for each action\n",
    "top_click_article = nlargest(20, article_click_freq, key = article_click_freq.get)\n",
    "top_carts_article = nlargest(20, article_carts_freq, key = article_carts_freq.get)\n",
    "top_order_article = nlargest(20, article_order_freq, key = article_order_freq.get) "
   ]
  },
  {
   "cell_type": "code",
   "execution_count": 46,
   "id": "589e8d6b-ada2-42a2-bea8-d17eaeb79b65",
   "metadata": {},
   "outputs": [],
   "source": [
    "# Create a dict with this info\n",
    "frequent_articles = {'clicks': top_click_article, 'carts':top_carts_article, 'order':top_order_article}"
   ]
  },
  {
   "cell_type": "code",
   "execution_count": 50,
   "id": "e3b8d6e0-d834-4c3d-8cd3-7737f14bd781",
   "metadata": {},
   "outputs": [
    {
     "name": "stdout",
     "output_type": "stream",
     "text": [
      "Most frequent articles for clicks: [1460571, 108125, 29735, 485256, 1733943, 184976, 832192, 1502122]\n",
      "Most frequent articles for carts: [485256, 152547, 33343, 166037, 1733943, 29735, 231487, 1022566]\n",
      "Most frequent articles for order: [231487, 166037, 1733943, 1445562, 1629608, 1022566, 801774, 409620]\n"
     ]
    }
   ],
   "source": [
    "for action in ['clicks', 'carts', 'order']:\n",
    "    print(f'Most frequent articles for {action}: {frequent_articles[action][:8]}')"
   ]
  },
  {
   "cell_type": "markdown",
   "id": "a589b924-3977-427e-8bb6-659bf1f30b1a",
   "metadata": {},
   "source": [
    "This baseline will use the fact that people will often interact with articles they have previouslt interacted with. The prediction will consist of the top 20 most frequent articles in the session. If there are less than 20 articles in the session the prediction will be padded with the most frequent articles in the training data as found above."
   ]
  },
  {
   "cell_type": "markdown",
   "id": "611355e5-cf82-413b-be3f-d90b4b64dcea",
   "metadata": {},
   "source": [
    "### test_df"
   ]
  },
  {
   "cell_type": "code",
   "execution_count": 39,
   "id": "9017dc79-bce5-4ba2-a3d8-74cf344ebad2",
   "metadata": {},
   "outputs": [
    {
     "name": "stdout",
     "output_type": "stream",
     "text": [
      "1671803 downloads/otto-recommender-system/test.jsonl\n"
     ]
    }
   ],
   "source": [
    "! wc -l {path/'test.jsonl'}"
   ]
  },
  {
   "cell_type": "code",
   "execution_count": 40,
   "id": "e22dc617-45d6-426c-a336-037fceb5ff84",
   "metadata": {},
   "outputs": [],
   "source": [
    "test_df = pd.read_json(path/'test.jsonl', lines=True)"
   ]
  },
  {
   "cell_type": "code",
   "execution_count": 66,
   "id": "7ab28a9f-e172-4ff3-97c4-f19552ac10d5",
   "metadata": {},
   "outputs": [
    {
     "data": {
      "text/plain": [
       "(1671803, 2)"
      ]
     },
     "execution_count": 66,
     "metadata": {},
     "output_type": "execute_result"
    }
   ],
   "source": [
    "test_df.shape"
   ]
  },
  {
   "cell_type": "code",
   "execution_count": null,
   "id": "5d5ecb29-de45-41c1-97e3-c680f13c19d4",
   "metadata": {},
   "outputs": [
    {
     "data": {
      "application/vnd.jupyter.widget-view+json": {
       "model_id": "6789ad6c296f43688324dd79dab9e740",
       "version_major": 2,
       "version_minor": 0
      },
      "text/plain": [
       "  0%|          | 0/1671803 [00:00<?, ?it/s]"
      ]
     },
     "metadata": {},
     "output_type": "display_data"
    }
   ],
   "source": [
    "import random\n",
    "preds = []\n",
    "for i, row in tqdm(test_df.iterrows(), total=test_df.shape[0]):\n",
    "    actions = row['events']\n",
    "    article_id_list = []\n",
    "    for action in actions:\n",
    "        article_id_list.append(action['aid'])\n",
    "\n",
    "    # Get 20 most common article ID for the session\n",
    "    article_freq = Counter(article_id_list)\n",
    "    top_articles = nlargest(20, article_freq, key = article_freq.get)\n",
    "\n",
    "    # Pad with most popular items in training\n",
    "    padding_size = (20 - len(top_articles))\n",
    "    for action in ['clicks', 'carts', 'order']:\n",
    "        top_articles_added = frequent_articles[action][:padding_size] + top_articles\n",
    "        random.shuffle(top_articles_added)\n",
    "        preds.append(\" \".join([str(id) for id in top_articles_added]))"
   ]
  },
  {
   "cell_type": "markdown",
   "id": "d4df9cb3-ebfe-4053-af72-1e073f6198eb",
   "metadata": {},
   "source": [
    "### Submission"
   ]
  },
  {
   "cell_type": "code",
   "execution_count": 69,
   "id": "b57aa789-53e1-498c-8f40-e00cab34a534",
   "metadata": {},
   "outputs": [
    {
     "data": {
      "text/html": [
       "<div>\n",
       "<style scoped>\n",
       "    .dataframe tbody tr th:only-of-type {\n",
       "        vertical-align: middle;\n",
       "    }\n",
       "\n",
       "    .dataframe tbody tr th {\n",
       "        vertical-align: top;\n",
       "    }\n",
       "\n",
       "    .dataframe thead th {\n",
       "        text-align: right;\n",
       "    }\n",
       "</style>\n",
       "<table border=\"1\" class=\"dataframe\">\n",
       "  <thead>\n",
       "    <tr style=\"text-align: right;\">\n",
       "      <th></th>\n",
       "      <th>session_type</th>\n",
       "      <th>labels</th>\n",
       "    </tr>\n",
       "  </thead>\n",
       "  <tbody>\n",
       "    <tr>\n",
       "      <th>0</th>\n",
       "      <td>12899779_clicks</td>\n",
       "      <td>129004 126836 118524</td>\n",
       "    </tr>\n",
       "  </tbody>\n",
       "</table>\n",
       "</div>"
      ],
      "text/plain": [
       "      session_type                labels\n",
       "0  12899779_clicks  129004 126836 118524"
      ]
     },
     "execution_count": 69,
     "metadata": {},
     "output_type": "execute_result"
    }
   ],
   "source": [
    "submission = pd.read_csv(path/'sample_submission.csv')\n",
    "submission.head(1)"
   ]
  },
  {
   "cell_type": "code",
   "execution_count": 70,
   "id": "c6dd2d0e-7fe6-406f-940c-b653bd12202b",
   "metadata": {},
   "outputs": [
    {
     "data": {
      "text/plain": [
       "((5015409, 2), 5015409)"
      ]
     },
     "execution_count": 70,
     "metadata": {},
     "output_type": "execute_result"
    }
   ],
   "source": [
    "submission.shape, len(preds)"
   ]
  },
  {
   "cell_type": "code",
   "execution_count": 71,
   "id": "f7cf7eaa-1299-4a9b-bd2a-42a481971096",
   "metadata": {},
   "outputs": [],
   "source": [
    "submission['labels'] = preds"
   ]
  },
  {
   "cell_type": "code",
   "execution_count": 63,
   "id": "b921e6b9-1517-47e5-9991-71b6b8b2bb98",
   "metadata": {},
   "outputs": [
    {
     "data": {
      "text/html": [
       "<div>\n",
       "<style scoped>\n",
       "    .dataframe tbody tr th:only-of-type {\n",
       "        vertical-align: middle;\n",
       "    }\n",
       "\n",
       "    .dataframe tbody tr th {\n",
       "        vertical-align: top;\n",
       "    }\n",
       "\n",
       "    .dataframe thead th {\n",
       "        text-align: right;\n",
       "    }\n",
       "</style>\n",
       "<table border=\"1\" class=\"dataframe\">\n",
       "  <thead>\n",
       "    <tr style=\"text-align: right;\">\n",
       "      <th></th>\n",
       "      <th>session_type</th>\n",
       "      <th>labels</th>\n",
       "    </tr>\n",
       "  </thead>\n",
       "  <tbody>\n",
       "    <tr>\n",
       "      <th>0</th>\n",
       "      <td>12899779_clicks</td>\n",
       "      <td>1460571 108125 29735 485256 1733943 184976 832192 1502122 554660 1603001 986164 322370 166037 231487 1236775 1196256 959208 620545 332654 95488</td>\n",
       "    </tr>\n",
       "    <tr>\n",
       "      <th>1</th>\n",
       "      <td>12899779_carts</td>\n",
       "      <td>485256 152547 33343 166037 1733943 29735 231487 1022566 1562705 832192 554660 544144 322370 1629608 986164 1083665 613493 1462420 332654 1460571</td>\n",
       "    </tr>\n",
       "    <tr>\n",
       "      <th>2</th>\n",
       "      <td>12899779_orders</td>\n",
       "      <td>231487 166037 1733943 1445562 1629608 1022566 801774 409620 1257293 544144 756588 1603001 450505 332654 29735 986164 1083665 125278 1116621 1025795</td>\n",
       "    </tr>\n",
       "    <tr>\n",
       "      <th>3</th>\n",
       "      <td>12899780_clicks</td>\n",
       "      <td>1460571 108125 29735 485256 1733943 184976 832192 1502122 554660 1603001 986164 322370 166037 231487 1236775 1196256 959208 620545 332654 95488</td>\n",
       "    </tr>\n",
       "    <tr>\n",
       "      <th>4</th>\n",
       "      <td>12899780_carts</td>\n",
       "      <td>485256 152547 33343 166037 1733943 29735 231487 1022566 1562705 832192 554660 544144 322370 1629608 986164 1083665 613493 1462420 332654 1460571</td>\n",
       "    </tr>\n",
       "    <tr>\n",
       "      <th>5</th>\n",
       "      <td>12899780_orders</td>\n",
       "      <td>231487 166037 1733943 1445562 1629608 1022566 801774 409620 1257293 544144 756588 1603001 450505 332654 29735 986164 1083665 125278 1116621 1025795</td>\n",
       "    </tr>\n",
       "  </tbody>\n",
       "</table>\n",
       "</div>"
      ],
      "text/plain": [
       "      session_type  \\\n",
       "0  12899779_clicks   \n",
       "1   12899779_carts   \n",
       "2  12899779_orders   \n",
       "3  12899780_clicks   \n",
       "4   12899780_carts   \n",
       "5  12899780_orders   \n",
       "\n",
       "                                                                                                                                                labels  \n",
       "0      1460571 108125 29735 485256 1733943 184976 832192 1502122 554660 1603001 986164 322370 166037 231487 1236775 1196256 959208 620545 332654 95488  \n",
       "1     485256 152547 33343 166037 1733943 29735 231487 1022566 1562705 832192 554660 544144 322370 1629608 986164 1083665 613493 1462420 332654 1460571  \n",
       "2  231487 166037 1733943 1445562 1629608 1022566 801774 409620 1257293 544144 756588 1603001 450505 332654 29735 986164 1083665 125278 1116621 1025795  \n",
       "3      1460571 108125 29735 485256 1733943 184976 832192 1502122 554660 1603001 986164 322370 166037 231487 1236775 1196256 959208 620545 332654 95488  \n",
       "4     485256 152547 33343 166037 1733943 29735 231487 1022566 1562705 832192 554660 544144 322370 1629608 986164 1083665 613493 1462420 332654 1460571  \n",
       "5  231487 166037 1733943 1445562 1629608 1022566 801774 409620 1257293 544144 756588 1603001 450505 332654 29735 986164 1083665 125278 1116621 1025795  "
      ]
     },
     "execution_count": 63,
     "metadata": {},
     "output_type": "execute_result"
    }
   ],
   "source": [
    "submission.head(6)"
   ]
  },
  {
   "cell_type": "markdown",
   "id": "79e123c6-f654-41bb-b654-1f7fcdf8898e",
   "metadata": {},
   "source": [
    "### send to kaggle!"
   ]
  },
  {
   "cell_type": "code",
   "execution_count": 72,
   "id": "95545153-0d0e-4992-ae9f-360bc4e27d8c",
   "metadata": {},
   "outputs": [
    {
     "name": "stdout",
     "output_type": "stream",
     "text": [
      "about to submit subs/otto-recommender-system-populars first, then most common in session-sub.csv to kaggle\n"
     ]
    },
    {
     "name": "stderr",
     "output_type": "stream",
     "text": [
      "100%|██████████| 773M/773M [00:25<00:00, 32.2MB/s] \n"
     ]
    },
    {
     "name": "stdout",
     "output_type": "stream",
     "text": [
      "Successfully submitted to OTTO – Multi-Objective Recommender System\n"
     ]
    }
   ],
   "source": [
    "# write submission csv\n",
    "technique = 'populars first, then most common in session'\n",
    "sub_filename = Path('subs')/(COMPETITION_NAME+'-'+technique+'-sub.csv')\n",
    "submission.to_csv(sub_filename, index=False)\n",
    "\n",
    "if not iskaggle:\n",
    "    print('about to submit', sub_filename, 'to kaggle')\n",
    "    input('continue?')\n",
    "    ret = kaggle.api.competition_submit(sub_filename, technique, COMPETITION_NAME)\n",
    "    print(ret)"
   ]
  }
 ],
 "metadata": {
  "kernelspec": {
   "display_name": "Python 3 (ipykernel)",
   "language": "python",
   "name": "python3"
  },
  "language_info": {
   "codemirror_mode": {
    "name": "ipython",
    "version": 3
   },
   "file_extension": ".py",
   "mimetype": "text/x-python",
   "name": "python",
   "nbconvert_exporter": "python",
   "pygments_lexer": "ipython3",
   "version": "3.9.13"
  }
 },
 "nbformat": 4,
 "nbformat_minor": 5
}
